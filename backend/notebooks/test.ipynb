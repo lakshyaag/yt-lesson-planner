{
 "cells": [
  {
   "cell_type": "code",
   "execution_count": 1,
   "metadata": {},
   "outputs": [],
   "source": [
    "from dotenv import load_dotenv\n",
    "from rich import print\n",
    "\n",
    "load_dotenv()\n",
    "%load_ext rich\n",
    "%load_ext autoreload\n",
    "%autoreload 2"
   ]
  },
  {
   "cell_type": "markdown",
   "metadata": {},
   "source": [
    "## LangGraph"
   ]
  },
  {
   "cell_type": "code",
   "execution_count": 2,
   "metadata": {},
   "outputs": [],
   "source": [
    "from textwrap import dedent\n",
    "from typing import Annotated, Any, Dict, List, Optional\n",
    "\n",
    "from langchain.pydantic_v1 import BaseModel, Field\n",
    "from langchain_core.messages import AnyMessage\n",
    "from langchain_core.prompts import ChatPromptTemplate\n",
    "from langchain_openai import ChatOpenAI\n",
    "from langgraph.graph import END, MessageGraph, StateGraph, add_messages\n",
    "from typing_extensions import TypedDict"
   ]
  },
  {
   "cell_type": "code",
   "execution_count": 3,
   "metadata": {},
   "outputs": [],
   "source": [
    "from youtube_lesson_planner.nodes import generate_plan, planner\n",
    "from youtube_lesson_planner.tools import get_transcripts, query_rewriter, search_videos\n"
   ]
  },
  {
   "cell_type": "code",
   "execution_count": 4,
   "metadata": {},
   "outputs": [],
   "source": [
    "class State(TypedDict):\n",
    "    query: str\n",
    "    plan: planner.PlanningTemplate\n",
    "    step_results: dict\n",
    "    lesson_plan: generate_plan.LessonPlan\n"
   ]
  },
  {
   "cell_type": "code",
   "execution_count": 5,
   "metadata": {},
   "outputs": [],
   "source": [
    "def plan(state: State):\n",
    "    return planner.get_plan(state['query'])"
   ]
  },
  {
   "cell_type": "code",
   "execution_count": 6,
   "metadata": {},
   "outputs": [],
   "source": [
    "def generate(state: State):\n",
    "    return generate_plan.generate_plan(state['query'])"
   ]
  },
  {
   "cell_type": "code",
   "execution_count": 7,
   "metadata": {},
   "outputs": [],
   "source": [
    "def _get_current_task(state: State):\n",
    "    if state[\"step_results\"] is None:\n",
    "        return 1\n",
    "    if len(state[\"step_results\"]) == len(state[\"plan\"].steps):\n",
    "        return None\n",
    "    else:\n",
    "        return len(state[\"step_results\"]) + 1"
   ]
  },
  {
   "cell_type": "code",
   "execution_count": 16,
   "metadata": {},
   "outputs": [],
   "source": [
    "def execute_tool(state: State) -> State:\n",
    "    _step = _get_current_task(state)\n",
    "\n",
    "    step_details = state[\"plan\"].steps[_step - 1]\n",
    "\n",
    "    print(f\"Executing step {_step}: {step_details.action} - {step_details.tool}\")\n",
    "\n",
    "    _results = state[\"step_results\"] or {}\n",
    "\n",
    "    if step_details.tool == \"query_rewrite\":\n",
    "        result = query_rewriter.query_rewrite(state[\"query\"], state[\"plan\"])\n",
    "        result = result.optimized_query\n",
    "\n",
    "    elif step_details.tool == \"search_videos\":\n",
    "        result = search_videos.search_youtube_videos(state[\"step_results\"][1], max_results=10)\n",
    "\n",
    "    elif step_details.tool == \"get_transcripts\":\n",
    "        result = get_transcripts.get_transcripts(state[\"step_results\"][2])\n",
    "\n",
    "    else:\n",
    "        result = None\n",
    "\n",
    "    _results[_step] = result\n",
    "\n",
    "    return {\n",
    "        \"step_results\": _results,\n",
    "    }"
   ]
  },
  {
   "cell_type": "code",
   "execution_count": 17,
   "metadata": {},
   "outputs": [],
   "source": [
    "def router(state: State):\n",
    "    _step = _get_current_task(state)\n",
    "\n",
    "    if _step is None:\n",
    "        return \"generate\"\n",
    "\n",
    "    else:\n",
    "        return \"execute\"\n"
   ]
  },
  {
   "cell_type": "code",
   "execution_count": 18,
   "metadata": {},
   "outputs": [],
   "source": [
    "workflow = StateGraph(State)\n",
    "\n",
    "workflow.add_node(\"planner\", plan)\n",
    "workflow.add_node(\"generator\", generate)\n",
    "workflow.add_node(\"execute\", execute_tool)\n",
    "\n",
    "workflow.add_edge(\"planner\", \"execute\")\n",
    "workflow.add_conditional_edges(\n",
    "    \"execute\", router, {\"execute\": \"execute\", \"generate\": \"generator\"}\n",
    ")\n",
    "workflow.add_edge(\"generator\", END)\n",
    "\n",
    "workflow.set_entry_point(\"planner\")\n",
    "\n",
    "graph = workflow.compile()"
   ]
  },
  {
   "cell_type": "code",
   "execution_count": 19,
   "metadata": {},
   "outputs": [
    {
     "data": {
      "text/html": [
       "<pre style=\"white-space:pre;overflow-x:auto;line-height:normal;font-family:Menlo,'DejaVu Sans Mono',consolas,'Courier New',monospace\"></pre>\n"
      ],
      "text/plain": []
     },
     "metadata": {},
     "output_type": "display_data"
    },
    {
     "data": {
      "image/jpeg": "[encoded data removed]",
      "text/plain": [
       "\u001b[1m<\u001b[0m\u001b[1;95mIPython.core.display.Image\u001b[0m\u001b[39m object\u001b[0m\u001b[1m>\u001b[0m"
      ]
     },
     "execution_count": 19,
     "metadata": {},
     "output_type": "execute_result"
    }
   ],
   "source": [
    "from IPython.display import Image\n",
    "\n",
    "Image(graph.get_graph().draw_mermaid_png())\n"
   ]
  },
  {
   "cell_type": "code",
   "execution_count": 26,
   "metadata": {},
   "outputs": [
    {
     "data": {
      "text/html": [
       "<pre style=\"white-space:pre;overflow-x:auto;line-height:normal;font-family:Menlo,'DejaVu Sans Mono',consolas,'Courier New',monospace\">Executing step <span style=\"color: #008080; text-decoration-color: #008080; font-weight: bold\">1</span>: Rewrite the user's query to optimize it for YouTube. - query_rewrite\n",
       "</pre>\n"
      ],
      "text/plain": [
       "Executing step \u001b[1;36m1\u001b[0m: Rewrite the user's query to optimize it for YouTube. - query_rewrite\n"
      ]
     },
     "metadata": {},
     "output_type": "display_data"
    },
    {
     "data": {
      "text/html": [
       "<pre style=\"white-space:pre;overflow-x:auto;line-height:normal;font-family:Menlo,'DejaVu Sans Mono',consolas,'Courier New',monospace\">Executing step <span style=\"color: #008080; text-decoration-color: #008080; font-weight: bold\">2</span>: Search for videos using the optimized query. - search_videos\n",
       "</pre>\n"
      ],
      "text/plain": [
       "Executing step \u001b[1;36m2\u001b[0m: Search for videos using the optimized query. - search_videos\n"
      ]
     },
     "metadata": {},
     "output_type": "display_data"
    },
    {
     "data": {
      "text/html": [
       "<pre style=\"white-space:pre;overflow-x:auto;line-height:normal;font-family:Menlo,'DejaVu Sans Mono',consolas,'Courier New',monospace\">Executing step <span style=\"color: #008080; text-decoration-color: #008080; font-weight: bold\">3</span>: Get the transcripts of the videos to understand their content in detail. - get_transcripts\n",
       "</pre>\n"
      ],
      "text/plain": [
       "Executing step \u001b[1;36m3\u001b[0m: Get the transcripts of the videos to understand their content in detail. - get_transcripts\n"
      ]
     },
     "metadata": {},
     "output_type": "display_data"
    }
   ],
   "source": [
    "response = graph.invoke({\"query\": \"survive on a stranded boat in ocean\"})"
   ]
  },
  {
   "cell_type": "code",
   "execution_count": 27,
   "metadata": {},
   "outputs": [
    {
     "data": {
      "text/html": [
       "<pre style=\"white-space:pre;overflow-x:auto;line-height:normal;font-family:Menlo,'DejaVu Sans Mono',consolas,'Courier New',monospace\"></pre>\n"
      ],
      "text/plain": []
     },
     "metadata": {},
     "output_type": "display_data"
    },
    {
     "data": {
      "text/plain": [
       "\n",
       "\u001b[1;35mLessonPlan\u001b[0m\u001b[1m(\u001b[0m\n",
       "    \u001b[33mtitle\u001b[0m=\u001b[32m'Surviving on a Stranded Boat in the Ocean'\u001b[0m,\n",
       "    \u001b[33mdescription\u001b[0m=\u001b[32m'This curriculum is designed to equip you with the essential knowledge and skills needed to survive if you ever find yourself stranded on a boat in the middle of the ocean. Drawing from real-life stories and expert advice, this course will cover finding water, securing food, staying mentally strong, and signaling for rescue.'\u001b[0m,\n",
       "    \u001b[33mvideos\u001b[0m=\u001b[1m[\u001b[0m\n",
       "        \u001b[1;35mVideo\u001b[0m\u001b[1m(\u001b[0m\n",
       "            \u001b[33mtitle\u001b[0m=\u001b[32m'How to Survive Being Stranded on a Deserted Island, According to Science'\u001b[0m,\n",
       "            \u001b[33murl\u001b[0m=\u001b[32m'https://www.youtube.com/watch?\u001b[0m\u001b[32mv\u001b[0m\u001b[32m=\u001b[0m\u001b[32mopdtSxvwjoE\u001b[0m\u001b[32m&\u001b[0m\u001b[32mt\u001b[0m\u001b[32m=\u001b[0m\u001b[32m30s\u001b[0m\u001b[32m'\u001b[0m,\n",
       "            \u001b[33mtranscript\u001b[0m=\u001b[32m\"How\u001b[0m\u001b[32m do you endure being stranded on a deserted island? Well, here's how you survive, Hey, don't try to wing it. You'd be best to borrow a tip from the Boy Scouts. They use the acronym S.T.O.P. It stands for: Stop, Think, Observe and Plan. Since people can't survive without water for more than 3-4 days, your first and biggest priority would be to find a water source.\"\u001b[0m\n",
       "        \u001b[1m)\u001b[0m,\n",
       "        \u001b[1;35mVideo\u001b[0m\u001b[1m(\u001b[0m\n",
       "            \u001b[33mtitle\u001b[0m=\u001b[32m'STRANDED AT SEA FOR 24 HOURS \u001b[0m\u001b[32m(\u001b[0m\u001b[32mshark-filled waters\u001b[0m\u001b[32m)\u001b[0m\u001b[32m'\u001b[0m,\n",
       "            \u001b[33murl\u001b[0m=\u001b[32m'https://www.youtube.com/watch?\u001b[0m\u001b[32mv\u001b[0m\u001b[32m=\u001b[0m\u001b[32mu0eGSi7AUCI\u001b[0m\u001b[32m&\u001b[0m\u001b[32mt\u001b[0m\u001b[32m=\u001b[0m\u001b[32m30s\u001b[0m\u001b[32m'\u001b[0m,\n",
       "            \u001b[33mtranscript\u001b[0m=\u001b[32m'were thinking about many such possibilities, so that we can face any such crisis in such circumstances. Can we survive in nature without any food and water, should we learn to hunt if ever we get lost in the forest. And can we survive 24 hours with the help of a lifeboat? Today we will find the answer to one of those questions. Matt found a lifeboat that was for sale and a company that was willing to protect us. Ammar gets extremely restless at sea and it is impossible for him to stay in one place for more than'\u001b[0m\n",
       "        \u001b[1m)\u001b[0m,\n",
       "        \u001b[1;35mVideo\u001b[0m\u001b[1m(\u001b[0m\n",
       "            \u001b[33mtitle\u001b[0m=\u001b[32m'How to Beat BEING STRANDED in OPEN WATER'\u001b[0m,\n",
       "            \u001b[33murl\u001b[0m=\u001b[32m'https://www.youtube.com/watch?\u001b[0m\u001b[32mv\u001b[0m\u001b[32m=\u001b[0m\u001b[32mmOgZeSSb2b8\u001b[0m\u001b[32m&\u001b[0m\u001b[32mt\u001b[0m\u001b[32m=\u001b[0m\u001b[32m1320s\u001b[0m\u001b[32m'\u001b[0m,\n",
       "            \u001b[33mtranscript\u001b[0m=\u001b[32m'Swimming to a boat when they were first stranded could have ended all of this twenty minutes in and saved both of their lives. However, once they became little bits of flotsam adrift in the open sea, there really wasn’t much either could do, save for keeping the sharks at bay, conserving energy, and ultimately swimming for the safety of the buoy when they saw it. For anyone stranded at sea, the takeaway here is to get out of the water as soon as possible -- the ocean belongs to Cthulhu.'\u001b[0m\n",
       "        \u001b[1m)\u001b[0m,\n",
       "        \u001b[1;35mVideo\u001b[0m\u001b[1m(\u001b[0m\n",
       "            \u001b[33mtitle\u001b[0m=\u001b[32m'Stranded At Sea and Forced to Eat Each Other \u001b[0m\u001b[32m(\u001b[0m\u001b[32mTrue Story\u001b[0m\u001b[32m)\u001b[0m\u001b[32m'\u001b[0m,\n",
       "            \u001b[33murl\u001b[0m=\u001b[32m'https://www.youtube.com/watch?\u001b[0m\u001b[32mv\u001b[0m\u001b[32m=\u001b[0m\u001b[32mMzzUVFXhK78\u001b[0m\u001b[32m&\u001b[0m\u001b[32mt\u001b[0m\u001b[32m=\u001b[0m\u001b[32m360s\u001b[0m\u001b[32m'\u001b[0m,\n",
       "            \u001b[33mtranscript\u001b[0m=\u001b[32m'After seventeen days at sea, a storm hits - gale force winds gust at forty-five knots, lightning flashes all around you, and immense forty-foot high waves toss the boats like toys. But by your twenty-third day at sea, you begin to pray for a storm when you find yourselves stuck in a dead calm with no wind for days. The Captain tries to rally a last-ditch effort and convinces you to row to freedom, but the effort is quickly abandoned as men start to collapse within minutes. You have travelled eleven hundred miles, but you’re still five thousand miles from land.'\u001b[0m\n",
       "        \u001b[1m)\u001b[0m,\n",
       "        \u001b[1;35mVideo\u001b[0m\u001b[1m(\u001b[0m\n",
       "            \u001b[33mtitle\u001b[0m=\u001b[32m'How 4 friends survived being stranded at sea for 119 days | Abandoned'\u001b[0m,\n",
       "            \u001b[33murl\u001b[0m=\u001b[32m'https://www.youtube.com/watch?\u001b[0m\u001b[32mv\u001b[0m\u001b[32m=\u001b[0m\u001b[32mNpvBiF0tgxI\u001b[0m\u001b[32m&\u001b[0m\u001b[32mt\u001b[0m\u001b[32m=\u001b[0m\u001b[32m60s\u001b[0m\u001b[32m'\u001b[0m,\n",
       "            \u001b[33mtranscript\u001b[0m=\u001b[32m'of air. They panic due to the sinking ship while John comforts them by stating they have enough food and water to survive multiple days until someone rescues them. After four days of staying in capsized boat, John makes a hole in his beloved ship to place EPRIP device to transmit the signals to nearby aircraft. EPRIP is a device which emits emergency and distress signal to the aircraft flying in the region. They keep waiting for help, but all they have left is to wait for their signals to reach an international plane as there is no local airplanes crossing over their boat.'\u001b[0m\n",
       "        \u001b[1m)\u001b[0m,\n",
       "        \u001b[1;35mVideo\u001b[0m\u001b[1m(\u001b[0m\n",
       "            \u001b[33mtitle\u001b[0m=\u001b[32m'7 Days Stranded At Sea'\u001b[0m,\n",
       "            \u001b[33murl\u001b[0m=\u001b[32m'https://www.youtube.com/watch?\u001b[0m\u001b[32mv\u001b[0m\u001b[32m=\u001b[0m\u001b[32myhB3BgJyGl8\u001b[0m\u001b[32m&\u001b[0m\u001b[32mt\u001b[0m\u001b[32m=\u001b[0m\u001b[32m360s\u001b[0m\u001b[32m'\u001b[0m,\n",
       "            \u001b[33mtranscript\u001b[0m=\u001b[32m\"-We survive on canned goods from Vestatables. It's all you need. - And drink hot water. - Very dry, I need this. We spent about 36 hours, and we reached almost half a barrel of water. -Is that slow or fast? - The water will run out on the sixth day. Low water and food levels gave me an idea.  I 'm curious to see what's under the boat. There are a lot of fish under us! We decided to try to catch some dinner, but we didn't do well. - Why is this taking so long?\"\u001b[0m\n",
       "        \u001b[1m)\u001b[0m\n",
       "    \u001b[1m]\u001b[0m,\n",
       "    \u001b[33msteps\u001b[0m=\u001b[1m[\u001b[0m\n",
       "        \u001b[32m'1. **Initial Response: S.T.O.P. Method** - Stop, Think, Observe, and Plan. Your first priority is to find a water source. \u001b[0m\u001b[32m(\u001b[0m\u001b[32mVideo: How to Survive Being Stranded on a Deserted Island, According to Science\u001b[0m\u001b[32m)\u001b[0m\u001b[32m'\u001b[0m,\n",
       "        \u001b[32m'2. **Securing Immediate Shelter and Safety** - Utilize any available materials to create a makeshift shelter. Stay out of the water to avoid sharks and conserve energy. \u001b[0m\u001b[32m(\u001b[0m\u001b[32mVideo: How to Beat BEING STRANDED in OPEN WATER\u001b[0m\u001b[32m)\u001b[0m\u001b[32m'\u001b[0m,\n",
       "        \u001b[32m'3. **Finding and Conserving Water** - Understand the importance of finding water and methods to conserve it. Use any containers to collect rainwater. \u001b[0m\u001b[32m(\u001b[0m\u001b[32mVideo: STRANDED AT SEA FOR 24 HOURS\u001b[0m\u001b[32m)\u001b[0m\u001b[32m'\u001b[0m,\n",
       "        \u001b[32m'4. **Finding Food** - Learn about potential food sources such as fish or seaweed, and how to catch them. \u001b[0m\u001b[32m(\u001b[0m\u001b[32mVideo: 7 Days Stranded At Sea\u001b[0m\u001b[32m)\u001b[0m\u001b[32m'\u001b[0m,\n",
       "        \u001b[32m'5. **Signaling for Rescue** - Use any reflective objects or create signals to attract attention. Consider using an emergency device like EPRIP. \u001b[0m\u001b[32m(\u001b[0m\u001b[32mVideo: How 4 friends survived being stranded at sea for 119 days | Abandoned\u001b[0m\u001b[32m)\u001b[0m\u001b[32m'\u001b[0m,\n",
       "        \u001b[32m'6. **Mental and Emotional Resilience** - Stay positive by exercising, thinking of loved ones, and planning for the future. Keep your mind occupied to avoid despair. \u001b[0m\u001b[32m(\u001b[0m\u001b[32mVideo: How to Survive Being Stranded on a Deserted Island, According to Science\u001b[0m\u001b[32m)\u001b[0m\u001b[32m'\u001b[0m,\n",
       "        \u001b[32m'7. **Handling Extreme Conditions** - Learn how to deal with storms, dead calms, and other extreme weather conditions. \u001b[0m\u001b[32m(\u001b[0m\u001b[32mVideo: Stranded At Sea and Forced to Eat Each Other \u001b[0m\u001b[32m(\u001b[0m\u001b[32mTrue Story\u001b[0m\u001b[32m)\u001b[0m\u001b[32m)\u001b[0m\u001b[32m'\u001b[0m\n",
       "    \u001b[1m]\u001b[0m\n",
       "\u001b[1m)\u001b[0m"
      ]
     },
     "execution_count": 27,
     "metadata": {},
     "output_type": "execute_result"
    }
   ],
   "source": [
    "response['lesson_plan']"
   ]
  },
  {
   "cell_type": "code",
   "execution_count": null,
   "metadata": {},
   "outputs": [],
   "source": []
  }
 ],
 "metadata": {
  "kernelspec": {
   "display_name": ".venv",
   "language": "python",
   "name": "python3"
  },
  "language_info": {
   "codemirror_mode": {
    "name": "ipython",
    "version": 3
   },
   "file_extension": ".py",
   "mimetype": "text/x-python",
   "name": "python",
   "nbconvert_exporter": "python",
   "pygments_lexer": "ipython3",
   "version": "3.11.0"
  }
 },
 "nbformat": 4,
 "nbformat_minor": 2
}
