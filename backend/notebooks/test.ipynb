{
 "cells": [
  {
   "cell_type": "code",
   "execution_count": 5,
   "metadata": {},
   "outputs": [],
   "source": [
    "from dotenv import load_dotenv\n",
    "from rich import print\n",
    "\n",
    "load_dotenv()\n",
    "%load_ext rich\n",
    "%load_ext autoreload\n",
    "%autoreload 2"
   ]
  },
  {
   "cell_type": "markdown",
   "metadata": {},
   "source": [
    "## App"
   ]
  },
  {
   "cell_type": "code",
   "execution_count": 2,
   "metadata": {},
   "outputs": [],
   "source": [
    "from youtube_lesson_planner.graph import create_graph\n",
    "\n",
    "graph = create_graph()"
   ]
  },
  {
   "cell_type": "code",
   "execution_count": 3,
   "metadata": {},
   "outputs": [
    {
     "name": "stdout",
     "output_type": "stream",
     "text": [
      "\u001b[36;1m\u001b[1;3m[0:tasks]\u001b[0m \u001b[1mStarting step 0 with 1 task:\n",
      "\u001b[0m- \u001b[32;1m\u001b[1;3m__start__\u001b[0m -> {'original_query': 'What is a function?'}\n",
      "\u001b[36;1m\u001b[1;3m[0:writes]\u001b[0m \u001b[1mFinished step 0 with writes to 1 channel:\n",
      "\u001b[0m- \u001b[33;1m\u001b[1;3moriginal_query\u001b[0m -> 'What is a function?'\n",
      "\u001b[36;1m\u001b[1;3m[1:tasks]\u001b[0m \u001b[1mStarting step 1 with 1 task:\n",
      "\u001b[0m- \u001b[32;1m\u001b[1;3mmake_vectorstore\u001b[0m -> {'learning_objectives': None,\n",
      " 'lesson_plan': None,\n",
      " 'original_query': 'What is a function?',\n",
      " 'rewritten_query': None,\n",
      " 'transcripts_status': None,\n",
      " 'vectorstore': None,\n",
      " 'videos': None}\n",
      "\u001b[36;1m\u001b[1;3m[1:writes]\u001b[0m \u001b[1mFinished step 1 with writes to 1 channel:\n",
      "\u001b[0m- \u001b[33;1m\u001b[1;3mvectorstore\u001b[0m -> <langchain_qdrant.vectorstores.Qdrant object at 0x000001A768F46190>\n",
      "\u001b[36;1m\u001b[1;3m[2:tasks]\u001b[0m \u001b[1mStarting step 2 with 1 task:\n",
      "\u001b[0m- \u001b[32;1m\u001b[1;3mobjectives\u001b[0m -> {'learning_objectives': None,\n",
      " 'lesson_plan': None,\n",
      " 'original_query': 'What is a function?',\n",
      " 'rewritten_query': None,\n",
      " 'transcripts_status': None,\n",
      " 'vectorstore': <langchain_qdrant.vectorstores.Qdrant object at 0x000001A768F46190>,\n",
      " 'videos': None}\n",
      "\u001b[36;1m\u001b[1;3m[2:writes]\u001b[0m \u001b[1mFinished step 2 with writes to 1 channel:\n",
      "\u001b[0m- \u001b[33;1m\u001b[1;3mlearning_objectives\u001b[0m -> LearningObjectivesList(objectives=[LearningObjectives(index=1, objective='Understand the definition and purpose of a function in programming.'), LearningObjectives(index=2, objective='Identify the components of a function, including parameters and return values.'), LearningObjectives(index=3, objective='Write and call basic functions in a programming language of choice.'), LearningObjectives(index=4, objective='Analyze the benefits of using functions for code reusability and modularity.'), LearningObjectives(index=5, objective='Debug and troubleshoot common issues related to functions.')])\n",
      "\u001b[36;1m\u001b[1;3m[3:tasks]\u001b[0m \u001b[1mStarting step 3 with 1 task:\n",
      "\u001b[0m- \u001b[32;1m\u001b[1;3mrewrite_query\u001b[0m -> {'learning_objectives': LearningObjectivesList(objectives=[LearningObjectives(index=1, objective='Understand the definition and purpose of a function in programming.'), LearningObjectives(index=2, objective='Identify the components of a function, including parameters and return values.'), LearningObjectives(index=3, objective='Write and call basic functions in a programming language of choice.'), LearningObjectives(index=4, objective='Analyze the benefits of using functions for code reusability and modularity.'), LearningObjectives(index=5, objective='Debug and troubleshoot common issues related to functions.')]),\n",
      " 'lesson_plan': None,\n",
      " 'original_query': 'What is a function?',\n",
      " 'rewritten_query': None,\n",
      " 'transcripts_status': None,\n",
      " 'vectorstore': <langchain_qdrant.vectorstores.Qdrant object at 0x000001A768F46190>,\n",
      " 'videos': None}\n",
      "\u001b[36;1m\u001b[1;3m[3:writes]\u001b[0m \u001b[1mFinished step 3 with writes to 1 channel:\n",
      "\u001b[0m- \u001b[33;1m\u001b[1;3mrewritten_query\u001b[0m -> ('Introduction to Functions in Programming: Definition, Components, Writing, '\n",
      " 'Calling, Benefits, and Debugging')\n",
      "\u001b[36;1m\u001b[1;3m[4:tasks]\u001b[0m \u001b[1mStarting step 4 with 1 task:\n",
      "\u001b[0m- \u001b[32;1m\u001b[1;3msearch\u001b[0m -> {'learning_objectives': LearningObjectivesList(objectives=[LearningObjectives(index=1, objective='Understand the definition and purpose of a function in programming.'), LearningObjectives(index=2, objective='Identify the components of a function, including parameters and return values.'), LearningObjectives(index=3, objective='Write and call basic functions in a programming language of choice.'), LearningObjectives(index=4, objective='Analyze the benefits of using functions for code reusability and modularity.'), LearningObjectives(index=5, objective='Debug and troubleshoot common issues related to functions.')]),\n",
      " 'lesson_plan': None,\n",
      " 'original_query': 'What is a function?',\n",
      " 'rewritten_query': 'Introduction to Functions in Programming: Definition, '\n",
      "                    'Components, Writing, Calling, Benefits, and Debugging',\n",
      " 'transcripts_status': None,\n",
      " 'vectorstore': <langchain_qdrant.vectorstores.Qdrant object at 0x000001A768F46190>,\n",
      " 'videos': None}\n",
      "\u001b[36;1m\u001b[1;3m[4:writes]\u001b[0m \u001b[1mFinished step 4 with writes to 1 channel:\n",
      "\u001b[0m- \u001b[33;1m\u001b[1;3mvideos\u001b[0m -> {'0LtuQhNFFe0': L-7.1: File System in Operating System | Windows, Linux, Unix, Android etc. by Gate Smashers - 0LtuQhNFFe0 | Subscribe to our new channel:https://www.youtube.com/@varunainashots Hard Disk Architecture: https://youtu.be/sveZw_GG_cs ...,\n",
      " '4daUujBgQQ8': What Are DLLs? by Techquickie - 4daUujBgQQ8 | Try FreshBooks free, for 30 days, no credit card required at https://www.freshbooks.com/techquickie What are those mysterious ...,\n",
      " '9gu4BsqjQrA': Unit Testing with examples in Software Engineering by Gate Smashers - 9gu4BsqjQrA | Subscribe to our new channel:https://www.youtube.com/@varunainashots ▻Software Engineering (Complete Playlist): ...,\n",
      " 'E0Qqpn8ymko': What is an API? by CodeWithHarry - E0Qqpn8ymko | In this video we will see what an API is and how it works! I will explain you the reason behind using the API as simply as possible.,\n",
      " 'MjbuarJ7SE0': 4. Decomposition, Abstraction, and Functions by MIT OpenCourseWare - MjbuarJ7SE0 | MIT 6.0001 Introduction to Computer Science and Programming in Python, Fall 2016 View the complete course: ...,\n",
      " 'O753uuutqH8': Software Engineering: Crash Course Computer Science #16 by CrashCourse - O753uuutqH8 | Today, we're going to talk about how HUGE programs with millions of lines of code like Microsoft Office are built. Programs like ...,\n",
      " 'cbSrsYiRamo': Backend Development explained in 2 minutes // Tech in 2 by mayuko - cbSrsYiRamo | Welcome to Tech in 2! Today we're covering what Backend Development is! #TechIn2 🎧m u s i c 🎧 (Intro) Blue Wednesday ...,\n",
      " 'iHg0mmIg0UU': What&#39;s an FPGA? by Charles Clayton - iHg0mmIg0UU | In the video I give a brief introduction into what an FPGA (Field Programmable Gate Array) is and the basics of how it works. In the ...,\n",
      " 'mS1L96GqwSU': Spring Boot Application Architecture by Java Guides - mS1L96GqwSU | In this short video, we will take a look into Spring boot application architecture. Course link: ...,\n",
      " 'zOjov-2OZ0E': Introduction to Programming and Computer Science - Full Course by freeCodeCamp.org - zOjov-2OZ0E | In this course, you will learn basics of computer programming and computer science. The concepts you learn apply to any and all ...}\n",
      "\u001b[36;1m\u001b[1;3m[5:tasks]\u001b[0m \u001b[1mStarting step 5 with 1 task:\n",
      "\u001b[0m- \u001b[32;1m\u001b[1;3mtranscripts\u001b[0m -> {'learning_objectives': LearningObjectivesList(objectives=[LearningObjectives(index=1, objective='Understand the definition and purpose of a function in programming.'), LearningObjectives(index=2, objective='Identify the components of a function, including parameters and return values.'), LearningObjectives(index=3, objective='Write and call basic functions in a programming language of choice.'), LearningObjectives(index=4, objective='Analyze the benefits of using functions for code reusability and modularity.'), LearningObjectives(index=5, objective='Debug and troubleshoot common issues related to functions.')]),\n",
      " 'lesson_plan': None,\n",
      " 'original_query': 'What is a function?',\n",
      " 'rewritten_query': 'Introduction to Functions in Programming: Definition, '\n",
      "                    'Components, Writing, Calling, Benefits, and Debugging',\n",
      " 'transcripts_status': None,\n",
      " 'vectorstore': <langchain_qdrant.vectorstores.Qdrant object at 0x000001A768F46190>,\n",
      " 'videos': {'0LtuQhNFFe0': L-7.1: File System in Operating System | Windows, Linux, Unix, Android etc. by Gate Smashers - 0LtuQhNFFe0 | Subscribe to our new channel:https://www.youtube.com/@varunainashots Hard Disk Architecture: https://youtu.be/sveZw_GG_cs ...,\n",
      "            '4daUujBgQQ8': What Are DLLs? by Techquickie - 4daUujBgQQ8 | Try FreshBooks free, for 30 days, no credit card required at https://www.freshbooks.com/techquickie What are those mysterious ...,\n",
      "            '9gu4BsqjQrA': Unit Testing with examples in Software Engineering by Gate Smashers - 9gu4BsqjQrA | Subscribe to our new channel:https://www.youtube.com/@varunainashots ▻Software Engineering (Complete Playlist): ...,\n",
      "            'E0Qqpn8ymko': What is an API? by CodeWithHarry - E0Qqpn8ymko | In this video we will see what an API is and how it works! I will explain you the reason behind using the API as simply as possible.,\n",
      "            'MjbuarJ7SE0': 4. Decomposition, Abstraction, and Functions by MIT OpenCourseWare - MjbuarJ7SE0 | MIT 6.0001 Introduction to Computer Science and Programming in Python, Fall 2016 View the complete course: ...,\n",
      "            'O753uuutqH8': Software Engineering: Crash Course Computer Science #16 by CrashCourse - O753uuutqH8 | Today, we're going to talk about how HUGE programs with millions of lines of code like Microsoft Office are built. Programs like ...,\n",
      "            'cbSrsYiRamo': Backend Development explained in 2 minutes // Tech in 2 by mayuko - cbSrsYiRamo | Welcome to Tech in 2! Today we're covering what Backend Development is! #TechIn2 🎧m u s i c 🎧 (Intro) Blue Wednesday ...,\n",
      "            'iHg0mmIg0UU': What&#39;s an FPGA? by Charles Clayton - iHg0mmIg0UU | In the video I give a brief introduction into what an FPGA (Field Programmable Gate Array) is and the basics of how it works. In the ...,\n",
      "            'mS1L96GqwSU': Spring Boot Application Architecture by Java Guides - mS1L96GqwSU | In this short video, we will take a look into Spring boot application architecture. Course link: ...,\n",
      "            'zOjov-2OZ0E': Introduction to Programming and Computer Science - Full Course by freeCodeCamp.org - zOjov-2OZ0E | In this course, you will learn basics of computer programming and computer science. The concepts you learn apply to any and all ...}}\n",
      "\u001b[36;1m\u001b[1;3m[5:writes]\u001b[0m \u001b[1mFinished step 5 with writes to 1 channel:\n",
      "\u001b[0m- \u001b[33;1m\u001b[1;3mtranscripts_status\u001b[0m -> True\n",
      "\u001b[36;1m\u001b[1;3m[6:tasks]\u001b[0m \u001b[1mStarting step 6 with 1 task:\n",
      "\u001b[0m- \u001b[32;1m\u001b[1;3mgenerate\u001b[0m -> {'learning_objectives': LearningObjectivesList(objectives=[LearningObjectives(index=1, objective='Understand the definition and purpose of a function in programming.'), LearningObjectives(index=2, objective='Identify the components of a function, including parameters and return values.'), LearningObjectives(index=3, objective='Write and call basic functions in a programming language of choice.'), LearningObjectives(index=4, objective='Analyze the benefits of using functions for code reusability and modularity.'), LearningObjectives(index=5, objective='Debug and troubleshoot common issues related to functions.')]),\n",
      " 'lesson_plan': None,\n",
      " 'original_query': 'What is a function?',\n",
      " 'rewritten_query': 'Introduction to Functions in Programming: Definition, '\n",
      "                    'Components, Writing, Calling, Benefits, and Debugging',\n",
      " 'transcripts_status': True,\n",
      " 'vectorstore': <langchain_qdrant.vectorstores.Qdrant object at 0x000001A768F46190>,\n",
      " 'videos': {'0LtuQhNFFe0': L-7.1: File System in Operating System | Windows, Linux, Unix, Android etc. by Gate Smashers - 0LtuQhNFFe0 | Subscribe to our new channel:https://www.youtube.com/@varunainashots Hard Disk Architecture: https://youtu.be/sveZw_GG_cs ...,\n",
      "            '4daUujBgQQ8': What Are DLLs? by Techquickie - 4daUujBgQQ8 | Try FreshBooks free, for 30 days, no credit card required at https://www.freshbooks.com/techquickie What are those mysterious ...,\n",
      "            '9gu4BsqjQrA': Unit Testing with examples in Software Engineering by Gate Smashers - 9gu4BsqjQrA | Subscribe to our new channel:https://www.youtube.com/@varunainashots ▻Software Engineering (Complete Playlist): ...,\n",
      "            'E0Qqpn8ymko': What is an API? by CodeWithHarry - E0Qqpn8ymko | In this video we will see what an API is and how it works! I will explain you the reason behind using the API as simply as possible.,\n",
      "            'MjbuarJ7SE0': 4. Decomposition, Abstraction, and Functions by MIT OpenCourseWare - MjbuarJ7SE0 | MIT 6.0001 Introduction to Computer Science and Programming in Python, Fall 2016 View the complete course: ...,\n",
      "            'O753uuutqH8': Software Engineering: Crash Course Computer Science #16 by CrashCourse - O753uuutqH8 | Today, we're going to talk about how HUGE programs with millions of lines of code like Microsoft Office are built. Programs like ...,\n",
      "            'cbSrsYiRamo': Backend Development explained in 2 minutes // Tech in 2 by mayuko - cbSrsYiRamo | Welcome to Tech in 2! Today we're covering what Backend Development is! #TechIn2 🎧m u s i c 🎧 (Intro) Blue Wednesday ...,\n",
      "            'iHg0mmIg0UU': What&#39;s an FPGA? by Charles Clayton - iHg0mmIg0UU | In the video I give a brief introduction into what an FPGA (Field Programmable Gate Array) is and the basics of how it works. In the ...,\n",
      "            'mS1L96GqwSU': Spring Boot Application Architecture by Java Guides - mS1L96GqwSU | In this short video, we will take a look into Spring boot application architecture. Course link: ...,\n",
      "            'zOjov-2OZ0E': Introduction to Programming and Computer Science - Full Course by freeCodeCamp.org - zOjov-2OZ0E | In this course, you will learn basics of computer programming and computer science. The concepts you learn apply to any and all ...}}\n",
      "\u001b[36;1m\u001b[1;3m[6:writes]\u001b[0m \u001b[1mFinished step 6 with writes to 1 channel:\n",
      "\u001b[0m- \u001b[33;1m\u001b[1;3mlesson_plan\u001b[0m -> LessonPlan(title='Understanding Functions in Programming', topics=[Topic(objective='Understand the definition and purpose of a function in programming.', videos=['zOjov-2OZ0E'], description='Learn what functions are and why they are essential in programming. This video will introduce the concept of functions, how they are used to encapsulate code, and the benefits they provide.', suggested_activities=['Watch the video segment from 3600s to 3660s.', 'Write a brief summary of what a function is in your own words.', 'Discuss with peers in an online forum the importance of functions in programming.']), Topic(objective='Identify the components of a function, including parameters and return values.', videos=['MjbuarJ7SE0'], description='Dive into the structure of a function, including its name, parameters, docstring, body, and return value. Understand how these components work together to perform a specific task.', suggested_activities=['Watch the video segments from 660s to 720s and 840s to 960s.', 'Create a diagram labeling the components of a function.', 'Annotate an example function with comments explaining each part.']), Topic(objective='Write and call basic functions in a programming language of choice.', videos=['zOjov-2OZ0E'], description='Learn how to write and call functions in a programming language. This includes defining functions, passing arguments, and returning values.', suggested_activities=['Watch the video segments from 4440s to 4480s.', 'Write a simple function in a programming language of your choice that takes two numbers as arguments and returns their sum.', \"Share your code in an online forum and review at least two peers' code.\"]), Topic(objective='Analyze the benefits of using functions for code reusability and modularity.', videos=['MjbuarJ7SE0'], description='Explore the advantages of using functions to make code more reusable and modular. Understand how functions can simplify complex problems and improve code maintenance.', suggested_activities=['Watch the video segments from 600s to 660s and 2400s.', 'Write a short essay on how functions contribute to code reusability and modularity.', 'Provide examples of how you have used functions to simplify your own code.']), Topic(objective='Debug and troubleshoot common issues related to functions.', videos=['zOjov-2OZ0E'], description='Learn common issues that can arise when working with functions and how to troubleshoot them. This includes scope issues, incorrect arguments, and return values.', suggested_activities=['Watch the video segments from 6360s to 6420s.', 'Create a list of common errors encountered when working with functions and how to resolve them.', 'Debug a provided piece of code with intentional errors related to functions.'])], comments='This curriculum is designed to provide a comprehensive understanding of functions in programming. It includes a mix of video content, practical exercises, and peer interaction to reinforce learning.')\n"
     ]
    }
   ],
   "source": [
    "response = graph.invoke({\"original_query\": \"What is a function?\"})"
   ]
  },
  {
   "cell_type": "code",
   "execution_count": 6,
   "metadata": {},
   "outputs": [
    {
     "data": {
      "text/html": [
       "<pre style=\"white-space:pre;overflow-x:auto;line-height:normal;font-family:Menlo,'DejaVu Sans Mono',consolas,'Courier New',monospace\"></pre>\n"
      ],
      "text/plain": []
     },
     "metadata": {},
     "output_type": "display_data"
    },
    {
     "data": {
      "text/plain": [
       "\n",
       "\u001b[1;35mLessonPlan\u001b[0m\u001b[1m(\u001b[0m\n",
       "    \u001b[33mtitle\u001b[0m=\u001b[32m'Understanding Functions in Programming'\u001b[0m,\n",
       "    \u001b[33mtopics\u001b[0m=\u001b[1m[\u001b[0m\n",
       "        \u001b[1;35mTopic\u001b[0m\u001b[1m(\u001b[0m\n",
       "            \u001b[33mobjective\u001b[0m=\u001b[32m'Understand the definition and purpose of a function in programming.'\u001b[0m,\n",
       "            \u001b[33mvideos\u001b[0m=\u001b[1m[\u001b[0m\u001b[32m'zOjov-2OZ0E'\u001b[0m\u001b[1m]\u001b[0m,\n",
       "            \u001b[33mdescription\u001b[0m=\u001b[32m'Learn what functions are and why they are essential in programming. This video will introduce the concept of functions, how they are used to encapsulate code, and the benefits they provide.'\u001b[0m,\n",
       "            \u001b[33msuggested_activities\u001b[0m=\u001b[1m[\u001b[0m\n",
       "                \u001b[32m'Watch the video segment from 3600s to 3660s.'\u001b[0m,\n",
       "                \u001b[32m'Write a brief summary of what a function is in your own words.'\u001b[0m,\n",
       "                \u001b[32m'Discuss with peers in an online forum the importance of functions in programming.'\u001b[0m\n",
       "            \u001b[1m]\u001b[0m\n",
       "        \u001b[1m)\u001b[0m,\n",
       "        \u001b[1;35mTopic\u001b[0m\u001b[1m(\u001b[0m\n",
       "            \u001b[33mobjective\u001b[0m=\u001b[32m'Identify the components of a function, including parameters and return values.'\u001b[0m,\n",
       "            \u001b[33mvideos\u001b[0m=\u001b[1m[\u001b[0m\u001b[32m'MjbuarJ7SE0'\u001b[0m\u001b[1m]\u001b[0m,\n",
       "            \u001b[33mdescription\u001b[0m=\u001b[32m'Dive into the structure of a function, including its name, parameters, docstring, body, and return value. Understand how these components work together to perform a specific task.'\u001b[0m,\n",
       "            \u001b[33msuggested_activities\u001b[0m=\u001b[1m[\u001b[0m\n",
       "                \u001b[32m'Watch the video segments from 660s to 720s and 840s to 960s.'\u001b[0m,\n",
       "                \u001b[32m'Create a diagram labeling the components of a function.'\u001b[0m,\n",
       "                \u001b[32m'Annotate an example function with comments explaining each part.'\u001b[0m\n",
       "            \u001b[1m]\u001b[0m\n",
       "        \u001b[1m)\u001b[0m,\n",
       "        \u001b[1;35mTopic\u001b[0m\u001b[1m(\u001b[0m\n",
       "            \u001b[33mobjective\u001b[0m=\u001b[32m'Write and call basic functions in a programming language of choice.'\u001b[0m,\n",
       "            \u001b[33mvideos\u001b[0m=\u001b[1m[\u001b[0m\u001b[32m'zOjov-2OZ0E'\u001b[0m\u001b[1m]\u001b[0m,\n",
       "            \u001b[33mdescription\u001b[0m=\u001b[32m'Learn how to write and call functions in a programming language. This includes defining functions, passing arguments, and returning values.'\u001b[0m,\n",
       "            \u001b[33msuggested_activities\u001b[0m=\u001b[1m[\u001b[0m\n",
       "                \u001b[32m'Watch the video segments from 4440s to 4480s.'\u001b[0m,\n",
       "                \u001b[32m'Write a simple function in a programming language of your choice that takes two numbers as arguments and returns their sum.'\u001b[0m,\n",
       "                \u001b[32m\"Share your code in an online forum and review at least two peers' code.\"\u001b[0m\n",
       "            \u001b[1m]\u001b[0m\n",
       "        \u001b[1m)\u001b[0m,\n",
       "        \u001b[1;35mTopic\u001b[0m\u001b[1m(\u001b[0m\n",
       "            \u001b[33mobjective\u001b[0m=\u001b[32m'Analyze the benefits of using functions for code reusability and modularity.'\u001b[0m,\n",
       "            \u001b[33mvideos\u001b[0m=\u001b[1m[\u001b[0m\u001b[32m'MjbuarJ7SE0'\u001b[0m\u001b[1m]\u001b[0m,\n",
       "            \u001b[33mdescription\u001b[0m=\u001b[32m'Explore the advantages of using functions to make code more reusable and modular. Understand how functions can simplify complex problems and improve code maintenance.'\u001b[0m,\n",
       "            \u001b[33msuggested_activities\u001b[0m=\u001b[1m[\u001b[0m\n",
       "                \u001b[32m'Watch the video segments from 600s to 660s and 2400s.'\u001b[0m,\n",
       "                \u001b[32m'Write a short essay on how functions contribute to code reusability and modularity.'\u001b[0m,\n",
       "                \u001b[32m'Provide examples of how you have used functions to simplify your own code.'\u001b[0m\n",
       "            \u001b[1m]\u001b[0m\n",
       "        \u001b[1m)\u001b[0m,\n",
       "        \u001b[1;35mTopic\u001b[0m\u001b[1m(\u001b[0m\n",
       "            \u001b[33mobjective\u001b[0m=\u001b[32m'Debug and troubleshoot common issues related to functions.'\u001b[0m,\n",
       "            \u001b[33mvideos\u001b[0m=\u001b[1m[\u001b[0m\u001b[32m'zOjov-2OZ0E'\u001b[0m\u001b[1m]\u001b[0m,\n",
       "            \u001b[33mdescription\u001b[0m=\u001b[32m'Learn common issues that can arise when working with functions and how to troubleshoot them. This includes scope issues, incorrect arguments, and return values.'\u001b[0m,\n",
       "            \u001b[33msuggested_activities\u001b[0m=\u001b[1m[\u001b[0m\n",
       "                \u001b[32m'Watch the video segments from 6360s to 6420s.'\u001b[0m,\n",
       "                \u001b[32m'Create a list of common errors encountered when working with functions and how to resolve them.'\u001b[0m,\n",
       "                \u001b[32m'Debug a provided piece of code with intentional errors related to functions.'\u001b[0m\n",
       "            \u001b[1m]\u001b[0m\n",
       "        \u001b[1m)\u001b[0m\n",
       "    \u001b[1m]\u001b[0m,\n",
       "    \u001b[33mcomments\u001b[0m=\u001b[32m'This curriculum is designed to provide a comprehensive understanding of functions in programming. It includes a mix of video content, practical exercises, and peer interaction to reinforce learning.'\u001b[0m\n",
       "\u001b[1m)\u001b[0m"
      ]
     },
     "execution_count": 6,
     "metadata": {},
     "output_type": "execute_result"
    }
   ],
   "source": [
    "response['lesson_plan']"
   ]
  },
  {
   "cell_type": "markdown",
   "metadata": {},
   "source": [
    "## Flow"
   ]
  },
  {
   "cell_type": "code",
   "execution_count": 15,
   "metadata": {},
   "outputs": [],
   "source": [
    "import json\n",
    "from youtube_lesson_planner.video import YouTubeVideo"
   ]
  },
  {
   "cell_type": "code",
   "execution_count": null,
   "metadata": {},
   "outputs": [],
   "source": [
    "\n",
    "embeddings = OpenAIEmbeddings(model=\"text-embedding-3-small\", dimensions=512)\n",
    "qdrant_client = QdrantClient(\n",
    "    location=\":memory:\",\n",
    ")\n",
    "qdrant_client.create_collection(\n",
    "    \"youtube_transcripts-1\", {\"size\": 512, \"distance\": \"Cosine\"}\n",
    ")\n",
    "\n",
    "vectorstore = Qdrant(\n",
    "    client=qdrant_client,\n",
    "    collection_name=\"youtube_transcripts-1\",\n",
    "    embeddings=embeddings,\n",
    ")"
   ]
  },
  {
   "cell_type": "code",
   "execution_count": null,
   "metadata": {},
   "outputs": [],
   "source": [
    "with open(\n",
    "    \"../search_data/search_results_QLoRA quantization machine learning tutorial.json\",\n",
    "    \"r\",\n",
    ") as f:\n",
    "    items = json.load(f)[\"items\"]\n",
    "\n",
    "yt_videos = {\n",
    "    item[\"id\"][\"videoId\"]: YouTubeVideo(\n",
    "        video_id=item[\"id\"][\"videoId\"],\n",
    "        title=item[\"snippet\"][\"title\"],\n",
    "        description=item[\"snippet\"][\"description\"],\n",
    "        published_at=item[\"snippet\"][\"publishedAt\"],\n",
    "        channel_title=item[\"snippet\"][\"channelTitle\"],\n",
    "        chunk_time_limit=30,\n",
    "    )\n",
    "    for item in items\n",
    "}"
   ]
  },
  {
   "cell_type": "code",
   "execution_count": null,
   "metadata": {},
   "outputs": [],
   "source": [
    "get_transcripts(list(yt_videos.values()), vectorstore)"
   ]
  },
  {
   "cell_type": "code",
   "execution_count": null,
   "metadata": {},
   "outputs": [],
   "source": [
    "response = generate_learning_objectives(\"how to learn spanish\")"
   ]
  },
  {
   "cell_type": "code",
   "execution_count": null,
   "metadata": {},
   "outputs": [],
   "source": [
    "response"
   ]
  },
  {
   "cell_type": "code",
   "execution_count": null,
   "metadata": {},
   "outputs": [],
   "source": [
    "query = rewrite(\"how to learn spanish\", response)"
   ]
  },
  {
   "cell_type": "code",
   "execution_count": null,
   "metadata": {},
   "outputs": [],
   "source": [
    "query"
   ]
  },
  {
   "cell_type": "code",
   "execution_count": null,
   "metadata": {},
   "outputs": [],
   "source": [
    "videos = search_youtube(query.optimized_query)"
   ]
  },
  {
   "cell_type": "code",
   "execution_count": null,
   "metadata": {},
   "outputs": [],
   "source": [
    "from langchain_openai import OpenAIEmbeddings\n",
    "from langchain_qdrant import Qdrant\n",
    "from qdrant_client import QdrantClient\n",
    "\n",
    "embeddings = OpenAIEmbeddings(model=\"text-embedding-3-small\", dimensions=1536)\n",
    "qdrant_client = QdrantClient(\n",
    "    location=\":memory:\",\n",
    ")\n",
    "qdrant_client.create_collection(\"youtube_transcripts\", {\"size\": 1536, \"distance\": \"Cosine\"})"
   ]
  },
  {
   "cell_type": "code",
   "execution_count": null,
   "metadata": {},
   "outputs": [],
   "source": [
    "vectorstore = Qdrant(\n",
    "    client=qdrant_client,\n",
    "    collection_name=\"youtube_transcripts\",\n",
    "    embeddings=embeddings,\n",
    ")"
   ]
  },
  {
   "cell_type": "code",
   "execution_count": null,
   "metadata": {},
   "outputs": [],
   "source": [
    "transcripts = get_transcripts(videos, vectorstore)"
   ]
  },
  {
   "cell_type": "code",
   "execution_count": null,
   "metadata": {},
   "outputs": [],
   "source": [
    "transcripts"
   ]
  },
  {
   "cell_type": "code",
   "execution_count": null,
   "metadata": {},
   "outputs": [],
   "source": [
    "lesson_plan = generate_plan(\"how to learn spanish\", response, vectorstore)"
   ]
  },
  {
   "cell_type": "code",
   "execution_count": null,
   "metadata": {},
   "outputs": [],
   "source": [
    "lesson_plan"
   ]
  },
  {
   "cell_type": "markdown",
   "metadata": {},
   "source": [
    "## LangGraph"
   ]
  },
  {
   "cell_type": "code",
   "execution_count": 6,
   "metadata": {},
   "outputs": [],
   "source": [
    "from langchain_openai import OpenAIEmbeddings\n",
    "from langchain_qdrant import Qdrant\n",
    "from langgraph.graph import END, StateGraph\n",
    "from qdrant_client import QdrantClient\n"
   ]
  },
  {
   "cell_type": "code",
   "execution_count": 7,
   "metadata": {},
   "outputs": [],
   "source": [
    "from youtube_lesson_planner.nodes.generate_plan import generate_plan\n",
    "from youtube_lesson_planner.nodes.get_transcripts import get_transcripts\n",
    "from youtube_lesson_planner.nodes.learning_objectives import (\n",
    "    generate_learning_objectives,\n",
    ")\n",
    "from youtube_lesson_planner.nodes.query_rewriter import rewrite\n",
    "from youtube_lesson_planner.nodes.search_videos import search_youtube\n",
    "from youtube_lesson_planner.schemas import AgentState\n"
   ]
  },
  {
   "cell_type": "code",
   "execution_count": 8,
   "metadata": {},
   "outputs": [],
   "source": [
    "def create_vectorstore(state: AgentState) -> AgentState:\n",
    "    embeddings = OpenAIEmbeddings(model=\"text-embedding-3-small\", dimensions=1536)\n",
    "    qdrant_client = QdrantClient(\n",
    "        location=\":memory:\",\n",
    "    )\n",
    "    qdrant_client.create_collection(\n",
    "        \"youtube_transcripts\", {\"size\": 1536, \"distance\": \"Cosine\"}\n",
    "    )\n",
    "\n",
    "    vectorstore = Qdrant(\n",
    "        client=qdrant_client,\n",
    "        collection_name=\"youtube_transcripts\",\n",
    "        embeddings=embeddings,\n",
    "    )\n",
    "\n",
    "    return {\n",
    "        \"vectorstore\": vectorstore,\n",
    "    }\n"
   ]
  },
  {
   "cell_type": "code",
   "execution_count": 9,
   "metadata": {},
   "outputs": [],
   "source": [
    "def learning_objectives(state: AgentState) -> AgentState:\n",
    "    query = state[\"original_query\"]\n",
    "\n",
    "    objectives = generate_learning_objectives(query)\n",
    "\n",
    "    return {\n",
    "        \"learning_objectives\": objectives,\n",
    "    }\n"
   ]
  },
  {
   "cell_type": "code",
   "execution_count": 10,
   "metadata": {},
   "outputs": [],
   "source": [
    "def rewrite_query(state: AgentState) -> AgentState:\n",
    "    query = state[\"original_query\"]\n",
    "    objectives = state[\"learning_objectives\"]\n",
    "\n",
    "    rewritten_query = rewrite(query, objectives)\n",
    "\n",
    "    return {\n",
    "        \"rewritten_query\": rewritten_query.optimized_query,\n",
    "    }\n"
   ]
  },
  {
   "cell_type": "code",
   "execution_count": 11,
   "metadata": {},
   "outputs": [],
   "source": [
    "def search(state: AgentState) -> AgentState:\n",
    "    optimized_query = state[\"rewritten_query\"]\n",
    "    videos = search_youtube(optimized_query, max_results=10)\n",
    "\n",
    "    return {\n",
    "        \"videos\": videos,\n",
    "    }\n"
   ]
  },
  {
   "cell_type": "code",
   "execution_count": 12,
   "metadata": {},
   "outputs": [],
   "source": [
    "def transcripts(state: AgentState) -> AgentState:\n",
    "    videos = state[\"videos\"]\n",
    "    vectorstore = state[\"vectorstore\"]\n",
    "\n",
    "    _ = get_transcripts(list(videos.values()), vectorstore)\n",
    "\n",
    "    return {\"transcripts_status\": True}"
   ]
  },
  {
   "cell_type": "code",
   "execution_count": 13,
   "metadata": {},
   "outputs": [],
   "source": [
    "def generate(state: AgentState) -> AgentState:\n",
    "    query = state[\"original_query\"]\n",
    "    objectives = state[\"learning_objectives\"]\n",
    "    vectorstore = state[\"vectorstore\"]\n",
    "\n",
    "    lesson_plan = generate_plan(query, objectives, vectorstore)\n",
    "\n",
    "    return {\n",
    "        \"lesson_plan\": lesson_plan,\n",
    "    }\n"
   ]
  },
  {
   "cell_type": "code",
   "execution_count": 14,
   "metadata": {},
   "outputs": [],
   "source": [
    "workflow = StateGraph(AgentState)\n",
    "\n",
    "\n",
    "workflow.add_node(\"make_vectorstore\", create_vectorstore)\n",
    "workflow.add_node(\"objectives\", learning_objectives)\n",
    "workflow.add_node(\"rewrite_query\", rewrite_query)\n",
    "workflow.add_node(\"search\", search)\n",
    "workflow.add_node(\"transcripts\", transcripts)\n",
    "workflow.add_node(\"generate\", generate)\n",
    "\n",
    "workflow.set_entry_point(\"make_vectorstore\")\n",
    "\n",
    "workflow.add_edge(\"make_vectorstore\", \"objectives\")\n",
    "workflow.add_edge(\"objectives\", \"rewrite_query\")\n",
    "workflow.add_edge(\"rewrite_query\", \"search\")\n",
    "workflow.add_edge(\"search\", \"transcripts\")\n",
    "workflow.add_edge(\"transcripts\", \"generate\")\n",
    "workflow.add_edge(\"generate\", END)\n",
    "\n",
    "graph = workflow.compile(debug=True)\n"
   ]
  },
  {
   "cell_type": "code",
   "execution_count": 15,
   "metadata": {},
   "outputs": [
    {
     "data": {
      "text/html": [
       "<pre style=\"white-space:pre;overflow-x:auto;line-height:normal;font-family:Menlo,'DejaVu Sans Mono',consolas,'Courier New',monospace\"></pre>\n"
      ],
      "text/plain": []
     },
     "metadata": {},
     "output_type": "display_data"
    },
    {
     "data": {
      "image/jpeg": "[encoded data removed]",
      "text/plain": [
       "\u001b[1m<\u001b[0m\u001b[1;95mIPython.core.display.Image\u001b[0m\u001b[39m object\u001b[0m\u001b[1m>\u001b[0m"
      ]
     },
     "execution_count": 15,
     "metadata": {},
     "output_type": "execute_result"
    }
   ],
   "source": [
    "from IPython.display import Image\n",
    "\n",
    "Image(graph.get_graph().draw_mermaid_png())"
   ]
  },
  {
   "cell_type": "code",
   "execution_count": 1,
   "metadata": {},
   "outputs": [
    {
     "ename": "NameError",
     "evalue": "name 'graph' is not defined",
     "output_type": "error",
     "traceback": [
      "\u001b[1;31m---------------------------------------------------------------------------\u001b[0m",
      "\u001b[1;31mNameError\u001b[0m                                 Traceback (most recent call last)",
      "Cell \u001b[1;32mIn[1], line 1\u001b[0m\n\u001b[1;32m----> 1\u001b[0m response \u001b[38;5;241m=\u001b[39m \u001b[43mgraph\u001b[49m\u001b[38;5;241m.\u001b[39minvoke({\u001b[38;5;124m\"\u001b[39m\u001b[38;5;124moriginal_query\u001b[39m\u001b[38;5;124m\"\u001b[39m: \u001b[38;5;124m\"\u001b[39m\u001b[38;5;124mbuild a house in fortnite\u001b[39m\u001b[38;5;124m\"\u001b[39m})\n",
      "\u001b[1;31mNameError\u001b[0m: name 'graph' is not defined"
     ]
    }
   ],
   "source": [
    "response = graph.invoke({\"original_query\": \"build a house in fortnite\"})"
   ]
  },
  {
   "cell_type": "code",
   "execution_count": 44,
   "metadata": {},
   "outputs": [
    {
     "data": {
      "text/html": [
       "<pre style=\"white-space:pre;overflow-x:auto;line-height:normal;font-family:Menlo,'DejaVu Sans Mono',consolas,'Courier New',monospace\"></pre>\n"
      ],
      "text/plain": []
     },
     "metadata": {},
     "output_type": "display_data"
    },
    {
     "data": {
      "text/plain": [
       "\n",
       "\u001b[1;35mLessonPlan\u001b[0m\u001b[1m(\u001b[0m\n",
       "    \u001b[33mtitle\u001b[0m=\u001b[32m'Building a House in Fortnite'\u001b[0m,\n",
       "    \u001b[33mtopics\u001b[0m=\u001b[1m[\u001b[0m\n",
       "        \u001b[1;35mTopic\u001b[0m\u001b[1m(\u001b[0m\n",
       "            \u001b[33mobjective\u001b[0m=\u001b[32m'Understand the basic building mechanics and controls in Fortnite'\u001b[0m,\n",
       "            \u001b[33mvideos\u001b[0m=\u001b[1m[\u001b[0m\n",
       "                Fortnite for Beginners: What Should You Learn First? by Billy Bicep - z0wnM20Noi8 | Live on Twitch: \u001b[4;94mhttps://twitch.tv/Billy_Bicep\u001b[0m Thanks for using code “billy-bicep” in the item shop Want a Fortnite Coach? Join my \u001b[33m...\u001b[0m,\n",
       "                \u001b[1;36m5\u001b[0m Fortnite Battle Royale Building Tips by SXVXN - djha41CuxOE | Fortnite Battle Royale Building Tips. This video is all about the best \u001b[1;36m5\u001b[0m Beginner Fortnite Battle Royale Building Tips. In this video \u001b[33m...\u001b[0m\n",
       "            \u001b[1m]\u001b[0m,\n",
       "            \u001b[33mdescription\u001b[0m=\u001b[32m'This topic covers the essential building mechanics and controls in Fortnite, including how to place walls, floors, ramps, and roofs. It will help learners get comfortable with the basic building tools and commands.'\u001b[0m,\n",
       "            \u001b[33msuggested_activities\u001b[0m=\u001b[1m[\u001b[0m\n",
       "                \u001b[32m'Watch the provided videos to understand the basic building mechanics.'\u001b[0m,\n",
       "                \u001b[32m'Practice placing different building structures in Creative mode.'\u001b[0m,\n",
       "                \u001b[32m'Complete a short quiz to test your understanding of the basic building controls.'\u001b[0m\n",
       "            \u001b[1m]\u001b[0m\n",
       "        \u001b[1m)\u001b[0m,\n",
       "        \u001b[1;35mTopic\u001b[0m\u001b[1m(\u001b[0m\n",
       "            \u001b[33mobjective\u001b[0m=\u001b[32m'Identify and gather the necessary materials for building structures in Fortnite'\u001b[0m,\n",
       "            \u001b[33mvideos\u001b[0m=\u001b[1m[\u001b[0m\n",
       "                Top \u001b[1;36m10\u001b[0m Fortnite Chapter \u001b[1;36m2\u001b[0m Tips &amp; Tricks You Wont Believe by Top \u001b[1;36m10\u001b[0m Gaming - eBuOzWErW14 | Top \u001b[1;36m10\u001b[0m Fortnite Chapter \u001b[1;36m2\u001b[0m Tips & Tricks You Wont Believe Subscribe To Top \u001b[1;36m10\u001b[0m Gaming: \u001b[4;94mhttp://bit.ly/2wtE9Xv\u001b[0m Fortnite Chapter \u001b[1;36m2\u001b[0m \u001b[33m...\u001b[0m\n",
       "            \u001b[1m]\u001b[0m,\n",
       "            \u001b[33mdescription\u001b[0m=\u001b[32m'This topic will teach learners how to gather essential materials like wood, stone, and metal efficiently. Understanding material collection is crucial for building robust structures.'\u001b[0m,\n",
       "            \u001b[33msuggested_activities\u001b[0m=\u001b[1m[\u001b[0m\n",
       "                \u001b[32m'Watch the video to learn efficient material gathering techniques.'\u001b[0m,\n",
       "                \u001b[32m'Practice gathering materials in a live game.'\u001b[0m,\n",
       "                \u001b[32m'Complete a scavenger hunt in Creative mode to collect a set amount of each material.'\u001b[0m\n",
       "            \u001b[1m]\u001b[0m\n",
       "        \u001b[1m)\u001b[0m,\n",
       "        \u001b[1;35mTopic\u001b[0m\u001b[1m(\u001b[0m\n",
       "            \u001b[33mobjective\u001b[0m=\u001b[32m'Construct different types of structures, including walls, floors, ramps, and roofs'\u001b[0m,\n",
       "            \u001b[33mvideos\u001b[0m=\u001b[1m[\u001b[0m\n",
       "                \u001b[1;36m5\u001b[0m Fortnite Battle Royale Building Tips by SXVXN - djha41CuxOE | Fortnite Battle Royale Building Tips. This video is all about the best \u001b[1;36m5\u001b[0m Beginner Fortnite Battle Royale Building Tips. In this video \u001b[33m...\u001b[0m,\n",
       "                Lego Fortnite: From Newbie to Noob Slayer \u001b[1m(\u001b[0mBeginner&#\u001b[1;36m39\u001b[0m;s Guide!\u001b[1m)\u001b[0m by Tale Of Nerds - XsPeQsxE2i0 | legofornite #taleofnerds #gaming Ahoy, minifigure veterans! Tired of basic brickin' and boring bloopers? This ain't your \u001b[33m...\u001b[0m\n",
       "            \u001b[1m]\u001b[0m,\n",
       "            \u001b[33mdescription\u001b[0m=\u001b[32m'Learners will be guided on constructing various types of structures, such as walls, floors, ramps, and roofs, which are the building blocks of any house in Fortnite.'\u001b[0m,\n",
       "            \u001b[33msuggested_activities\u001b[0m=\u001b[1m[\u001b[0m\n",
       "                \u001b[32m'Watch the videos to understand how to construct different types of structures.'\u001b[0m,\n",
       "                \u001b[32m'Build a simple house in Creative mode using the learned structures.'\u001b[0m,\n",
       "                \u001b[32m'Share screenshots of your house in the course forum for feedback.'\u001b[0m\n",
       "            \u001b[1m]\u001b[0m\n",
       "        \u001b[1m)\u001b[0m,\n",
       "        \u001b[1;35mTopic\u001b[0m\u001b[1m(\u001b[0m\n",
       "            \u001b[33mobjective\u001b[0m=\u001b[32m'Implement advanced building techniques to create complex structures and fortifications'\u001b[0m,\n",
       "            \u001b[33mvideos\u001b[0m=\u001b[1m[\u001b[0m\n",
       "                \u001b[1;36m5\u001b[0m Console Building Techniques You NEED To Know! \u001b[1m(\u001b[0mFortnite PS4 + Xbox Tips\u001b[1m)\u001b[0m by GronKy - RkBUFC26o-c | In this video today we're gonna be taking a look at some advanced building/editing techniques in Fortnite, and determining \u001b[33m...\u001b[0m,\n",
       "                Lego Fortnite: From Newbie to Noob Slayer \u001b[1m(\u001b[0mBeginner&#\u001b[1;36m39\u001b[0m;s Guide!\u001b[1m)\u001b[0m by Tale Of Nerds - XsPeQsxE2i0 | legofornite #taleofnerds #gaming Ahoy, minifigure veterans! Tired of basic brickin' and boring bloopers? This ain't your \u001b[33m...\u001b[0m\n",
       "            \u001b[1m]\u001b[0m,\n",
       "            \u001b[33mdescription\u001b[0m=\u001b[32m'This topic introduces advanced building techniques and strategies for creating complex structures and fortifications. Learners will explore methods to improve their building speed and efficiency.'\u001b[0m,\n",
       "            \u001b[33msuggested_activities\u001b[0m=\u001b[1m[\u001b[0m\n",
       "                \u001b[32m'Watch the videos to learn advanced building techniques.'\u001b[0m,\n",
       "                \u001b[32m'Practice these techniques in Creative mode to build more complex structures.'\u001b[0m,\n",
       "                \u001b[32m'Complete a timed building challenge to test your speed and accuracy.'\u001b[0m\n",
       "            \u001b[1m]\u001b[0m\n",
       "        \u001b[1m)\u001b[0m,\n",
       "        \u001b[1;35mTopic\u001b[0m\u001b[1m(\u001b[0m\n",
       "            \u001b[33mobjective\u001b[0m=\u001b[32m'Practice building under time constraints and in combat scenarios to improve efficiency and effectiveness'\u001b[0m,\n",
       "            \u001b[33mvideos\u001b[0m=\u001b[1m[\u001b[0m\n",
       "                \u001b[1;36m5\u001b[0m Console Building Techniques You NEED To Know! \u001b[1m(\u001b[0mFortnite PS4 + Xbox Tips\u001b[1m)\u001b[0m by GronKy - RkBUFC26o-c | In this video today we're gonna be taking a look at some advanced building/editing techniques in Fortnite, and determining \u001b[33m...\u001b[0m,\n",
       "                \u001b[1;36m5\u001b[0m Fortnite Battle Royale Building Tips by SXVXN - djha41CuxOE | Fortnite Battle Royale Building Tips. This video is all about the best \u001b[1;36m5\u001b[0m Beginner Fortnite Battle Royale Building Tips. In this video \u001b[33m...\u001b[0m\n",
       "            \u001b[1m]\u001b[0m,\n",
       "            \u001b[33mdescription\u001b[0m=\u001b[32m'Learners will practice building under time constraints and in combat scenarios, which is crucial for real-game situations. This will help improve their efficiency and effectiveness during intense gameplay.'\u001b[0m,\n",
       "            \u001b[33msuggested_activities\u001b[0m=\u001b[1m[\u001b[0m\n",
       "                \u001b[32m'Watch the videos to understand the importance of building under pressure.'\u001b[0m,\n",
       "                \u001b[32m'Participate in timed building drills in Creative mode.'\u001b[0m,\n",
       "                \u001b[32m'Engage in simulated combat scenarios to practice building while under attack.'\u001b[0m\n",
       "            \u001b[1m]\u001b[0m\n",
       "        \u001b[1m)\u001b[0m\n",
       "    \u001b[1m]\u001b[0m,\n",
       "    \u001b[33mcomments\u001b[0m=\u001b[32m'This curriculum is designed to be engaging and interactive, with a mix of instructional videos, practical activities, and self-assessment methods to reinforce learning.'\u001b[0m\n",
       "\u001b[1m)\u001b[0m"
      ]
     },
     "execution_count": 44,
     "metadata": {},
     "output_type": "execute_result"
    }
   ],
   "source": [
    "response['lesson_plan']"
   ]
  }
 ],
 "metadata": {
  "kernelspec": {
   "display_name": ".venv",
   "language": "python",
   "name": "python3"
  },
  "language_info": {
   "codemirror_mode": {
    "name": "ipython",
    "version": 3
   },
   "file_extension": ".py",
   "mimetype": "text/x-python",
   "name": "python",
   "nbconvert_exporter": "python",
   "pygments_lexer": "ipython3",
   "version": "3.11.0"
  }
 },
 "nbformat": 4,
 "nbformat_minor": 2
}
