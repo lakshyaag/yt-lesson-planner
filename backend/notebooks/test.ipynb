{
 "cells": [
  {
   "cell_type": "code",
   "execution_count": 1,
   "metadata": {},
   "outputs": [],
   "source": [
    "from rich import print\n",
    "from dotenv import load_dotenv\n",
    "import os\n",
    "from youtube_transcript_api import YouTubeTranscriptApi\n",
    "from typing import List, Dict, Any, Generator\n",
    "from langchain.schema import Document\n",
    "import googleapiclient.discovery\n",
    "\n",
    "\n",
    "load_dotenv()\n",
    "%load_ext rich"
   ]
  },
  {
   "cell_type": "code",
   "execution_count": 2,
   "metadata": {},
   "outputs": [],
   "source": [
    "class YouTubeVideo:\n",
    "    def __init__(\n",
    "        self,\n",
    "        video_id,\n",
    "        title,\n",
    "        description,\n",
    "        published_at,\n",
    "        channel_title,\n",
    "        chunk_time_limit=120,\n",
    "    ):\n",
    "        self.video_id = video_id\n",
    "        self.title = title\n",
    "        self.description = description\n",
    "        self.published_at = published_at\n",
    "        self.channel_title = channel_title\n",
    "        self.chunk_time_limit = chunk_time_limit\n",
    "\n",
    "    def __repr__(self):\n",
    "        return f\"{self.title} by {self.channel_title} - {self.video_id} | {self.description}\"\n",
    "\n",
    "    def _get_transcript(self):\n",
    "        try:\n",
    "            transcript_list = YouTubeTranscriptApi.list_transcripts(self.video_id)\n",
    "            for t in transcript_list:\n",
    "                if t.language_code in [\"en\", \"en-US\"]:\n",
    "                    return t.fetch()\n",
    "                elif any(\n",
    "                    lang[\"language_code\"] == \"en\" for lang in t.translation_languages\n",
    "                ):\n",
    "                    return t.translate(\"en\").fetch()\n",
    "        except Exception as e:\n",
    "            print(f\"Error fetching transcript: {e} for video {self.video_id}\")\n",
    "        return None\n",
    "\n",
    "    def _make_chunk_document(\n",
    "        self, chunk_pieces: List[Dict], chunk_start_seconds: int\n",
    "    ) -> Document:\n",
    "        \"\"\"Create Document from chunk of transcript pieces.\"\"\"\n",
    "        m, s = divmod(chunk_start_seconds, 60)\n",
    "        h, m = divmod(m, 60)\n",
    "        return Document(\n",
    "            page_content=\" \".join(\n",
    "                map(lambda chunk_piece: chunk_piece[\"text\"].strip(\" \"), chunk_pieces)\n",
    "            ),\n",
    "            metadata={\n",
    "                \"start_seconds\": chunk_start_seconds,\n",
    "                \"start_timestamp\": f\"{h:02d}:{m:02d}:{s:02d}\",\n",
    "                \"source\": f\"https://www.youtube.com/watch?v={self.video_id}&t={chunk_start_seconds}s\",\n",
    "                \"title\": self.title,\n",
    "                \"video_id\": self.video_id,\n",
    "            },\n",
    "        )\n",
    "\n",
    "    def _get_transcript_chunks(\n",
    "        self, transcript_pieces: List[Dict]\n",
    "    ) -> Generator[Document, None, None]:\n",
    "        chunk_pieces: List[Dict[str, Any]] = []\n",
    "        chunk_start_seconds = 0\n",
    "        chunk_time_limit = self.chunk_time_limit\n",
    "        for transcript_piece in transcript_pieces:\n",
    "            piece_end = transcript_piece[\"start\"] + transcript_piece[\"duration\"]\n",
    "            if piece_end > chunk_time_limit:\n",
    "                if chunk_pieces:\n",
    "                    yield self._make_chunk_document(chunk_pieces, chunk_start_seconds)\n",
    "                chunk_pieces = []\n",
    "                chunk_start_seconds = chunk_time_limit\n",
    "                chunk_time_limit += self.chunk_time_limit\n",
    "\n",
    "            chunk_pieces.append(transcript_piece)\n",
    "\n",
    "        if len(chunk_pieces) > 0:\n",
    "            yield self._make_chunk_document(chunk_pieces, chunk_start_seconds)\n",
    "\n",
    "    def load(self):\n",
    "        try:\n",
    "            transcripts = self._get_transcript()\n",
    "            if transcripts:\n",
    "                return list(self._get_transcript_chunks(transcripts))\n",
    "        except Exception as e:\n",
    "            print(f\"Error: {e} for video {self.video_id}\")\n",
    "\n",
    "        return []\n"
   ]
  },
  {
   "cell_type": "code",
   "execution_count": 3,
   "metadata": {},
   "outputs": [
    {
     "data": {
      "text/html": [
       "<pre style=\"white-space:pre;overflow-x:auto;line-height:normal;font-family:Menlo,'DejaVu Sans Mono',consolas,'Courier New',monospace\"><span style=\"color: #800000; text-decoration-color: #800000\">╭─────────────────────────────── </span><span style=\"color: #800000; text-decoration-color: #800000; font-weight: bold\">Traceback </span><span style=\"color: #bf7f7f; text-decoration-color: #bf7f7f; font-weight: bold\">(most recent call last)</span><span style=\"color: #800000; text-decoration-color: #800000\"> ────────────────────────────────╮</span>\n",
       "<span style=\"color: #800000; text-decoration-color: #800000\">│</span> in <span style=\"color: #00ff00; text-decoration-color: #00ff00\">&lt;module&gt;</span>:<span style=\"color: #0000ff; text-decoration-color: #0000ff\">1</span>                                                                                    <span style=\"color: #800000; text-decoration-color: #800000\">│</span>\n",
       "<span style=\"color: #800000; text-decoration-color: #800000\">│</span>                                                                                                  <span style=\"color: #800000; text-decoration-color: #800000\">│</span>\n",
       "<span style=\"color: #800000; text-decoration-color: #800000\">│</span> <span style=\"color: #800000; text-decoration-color: #800000\">❱ </span>1 transcripts = [v.load() <span style=\"color: #0000ff; text-decoration-color: #0000ff\">for</span> v <span style=\"color: #ff00ff; text-decoration-color: #ff00ff\">in</span> yt_videos]                                                  <span style=\"color: #800000; text-decoration-color: #800000\">│</span>\n",
       "<span style=\"color: #800000; text-decoration-color: #800000\">│</span>   <span style=\"color: #7f7f7f; text-decoration-color: #7f7f7f\">2 </span>transcripts                                                                                  <span style=\"color: #800000; text-decoration-color: #800000\">│</span>\n",
       "<span style=\"color: #800000; text-decoration-color: #800000\">│</span>   <span style=\"color: #7f7f7f; text-decoration-color: #7f7f7f\">3 </span>                                                                                             <span style=\"color: #800000; text-decoration-color: #800000\">│</span>\n",
       "<span style=\"color: #800000; text-decoration-color: #800000\">╰──────────────────────────────────────────────────────────────────────────────────────────────────╯</span>\n",
       "<span style=\"color: #ff0000; text-decoration-color: #ff0000; font-weight: bold\">NameError: </span>name <span style=\"color: #008000; text-decoration-color: #008000\">'yt_videos'</span> is not defined\n",
       "</pre>\n"
      ],
      "text/plain": [
       "\u001b[31m╭─\u001b[0m\u001b[31m──────────────────────────────\u001b[0m\u001b[31m \u001b[0m\u001b[1;31mTraceback \u001b[0m\u001b[1;2;31m(most recent call last)\u001b[0m\u001b[31m \u001b[0m\u001b[31m───────────────────────────────\u001b[0m\u001b[31m─╮\u001b[0m\n",
       "\u001b[31m│\u001b[0m in \u001b[92m<module>\u001b[0m:\u001b[94m1\u001b[0m                                                                                    \u001b[31m│\u001b[0m\n",
       "\u001b[31m│\u001b[0m                                                                                                  \u001b[31m│\u001b[0m\n",
       "\u001b[31m│\u001b[0m \u001b[31m❱ \u001b[0m1 transcripts = [v.load() \u001b[94mfor\u001b[0m v \u001b[95min\u001b[0m yt_videos]                                                  \u001b[31m│\u001b[0m\n",
       "\u001b[31m│\u001b[0m   \u001b[2m2 \u001b[0mtranscripts                                                                                  \u001b[31m│\u001b[0m\n",
       "\u001b[31m│\u001b[0m   \u001b[2m3 \u001b[0m                                                                                             \u001b[31m│\u001b[0m\n",
       "\u001b[31m╰──────────────────────────────────────────────────────────────────────────────────────────────────╯\u001b[0m\n",
       "\u001b[1;91mNameError: \u001b[0mname \u001b[32m'yt_videos'\u001b[0m is not defined\n"
      ]
     },
     "metadata": {},
     "output_type": "display_data"
    }
   ],
   "source": [
    "transcripts = [v.load() for v in yt_videos]\n",
    "transcripts\n"
   ]
  },
  {
   "cell_type": "markdown",
   "metadata": {},
   "source": [
    "## LangGraph"
   ]
  },
  {
   "cell_type": "code",
   "execution_count": 4,
   "metadata": {},
   "outputs": [],
   "source": [
    "from textwrap import dedent\n",
    "from langchain_openai import ChatOpenAI\n",
    "from langgraph.graph import StateGraph, MessageGraph, add_messages, END\n",
    "from langchain_core.prompts import ChatPromptTemplate\n",
    "from langchain_core.messages import AnyMessage\n",
    "from langchain.pydantic_v1 import BaseModel, Field\n",
    "from typing import List, Dict, Any, Optional, Annotated\n",
    "from typing_extensions import TypedDict"
   ]
  },
  {
   "cell_type": "code",
   "execution_count": 5,
   "metadata": {},
   "outputs": [],
   "source": [
    "class Video(BaseModel):\n",
    "    title: str\n",
    "    url: str\n",
    "    duration: int  # duration in seconds\n",
    "    transcript: str\n",
    "\n",
    "\n",
    "class LessonPlan(BaseModel):\n",
    "    title: str\n",
    "    description: str\n",
    "    videos: List[Video]\n",
    "    steps: List[str]\n"
   ]
  },
  {
   "cell_type": "code",
   "execution_count": 6,
   "metadata": {},
   "outputs": [],
   "source": [
    "class PlanningStep(BaseModel):\n",
    "    thought: str = Field(..., description=\"The thought or reasoning behind the step.\")\n",
    "    action: str = Field(..., description=\"The action to take in the step.\")\n",
    "    tool: str = Field(None, description=\"The tool to use in the step.\")\n",
    "\n",
    "\n",
    "class PlanningTemplate(BaseModel):\n",
    "    steps: List[PlanningStep] = Field(..., description=\"The steps to take in the plan.\")"
   ]
  },
  {
   "cell_type": "code",
   "execution_count": 7,
   "metadata": {},
   "outputs": [],
   "source": [
    "class State(TypedDict):\n",
    "    query: str\n",
    "    plan: PlanningTemplate\n",
    "    step_results: dict\n",
    "    lesson_plan: LessonPlan"
   ]
  },
  {
   "cell_type": "markdown",
   "metadata": {},
   "source": [
    "### Planner"
   ]
  },
  {
   "cell_type": "code",
   "execution_count": 8,
   "metadata": {},
   "outputs": [],
   "source": [
    "def get_plan(state: State) -> State:\n",
    "    planner_prompt = ChatPromptTemplate.from_messages(\n",
    "        [\n",
    "            (\n",
    "                \"user\",\n",
    "                dedent(\n",
    "                    \"\"\"\n",
    "                You are an agent that specializes in building learning curriculums based on user queries by searching YouTube. \n",
    "                Your task is to create comprehensive and engaging learning curriculums using relevant YouTube videos that match the user's query.\n",
    "\n",
    "                The tools provided to you are:\n",
    "                1. query_rewrite(): To rewrite the user's query to optimize it for YouTube\n",
    "                2. search_videos(): To search for videos based on user queries\n",
    "                3. get_transcripts(): To get the transcripts of the videos\n",
    "                4. filter_videos(): To filter out irrelevant videos based on the transcripts\n",
    "                4. generate_plan(): To generate lesson plans based on the video transcripts.\n",
    "                \n",
    "                Make a plan to create a learning curriculum based on the user's query. \n",
    "                \n",
    "                Some examples of steps are: rewrite the query to optimize it for YouTube, discard irrelevant videos, create a structured plan based on the video transcripts.\n",
    "                \"\"\"\n",
    "                ),\n",
    "            ),\n",
    "            (\"user\", \"Query: {input}\"),\n",
    "        ]\n",
    "    )\n",
    "\n",
    "    planner_llm = ChatOpenAI(model=\"gpt-4o\", temperature=0.5, streaming=False)\n",
    "\n",
    "    planner_chain = planner_prompt | planner_llm.with_structured_output(\n",
    "        PlanningTemplate\n",
    "    )\n",
    "\n",
    "    query = state[\"query\"]\n",
    "    result = planner_chain.invoke({\"input\": query})\n",
    "\n",
    "    return {\"plan\": result}\n"
   ]
  },
  {
   "cell_type": "markdown",
   "metadata": {},
   "source": [
    "### Generate plan"
   ]
  },
  {
   "cell_type": "code",
   "execution_count": 9,
   "metadata": {},
   "outputs": [],
   "source": [
    "def generate_plan(state: State) -> State:\n",
    "    generator_prompt = ChatPromptTemplate.from_messages(\n",
    "        [\n",
    "            (\n",
    "                \"user\",\n",
    "                dedent(\n",
    "                    \"\"\"\n",
    "                You are an agent that specializes in building learning curriculums based on user queries by searching YouTube. \n",
    "                Your task is to create comprehensive and engaging learning curriculums using relevant YouTube videos that match the user's query.\n",
    "\n",
    "                You are provided with the metadata of the videos and the plan generated by the generator.\n",
    "\n",
    "                Generate an effective learning curriculum based on the videos and the plan.\n",
    "\n",
    "                Plan: {plan}\n",
    "                User query: {query}\n",
    "                \"\"\"\n",
    "                ),\n",
    "            ),\n",
    "        ]\n",
    "    )\n",
    "\n",
    "    generator_llm = ChatOpenAI(model=\"gpt-4o\", temperature=0.5, streaming=False)\n",
    "\n",
    "    generator_chain = generator_prompt | generator_llm.with_structured_output(\n",
    "        LessonPlan\n",
    "    )\n",
    "\n",
    "    query = state[\"query\"]\n",
    "    plan = state[\"plan\"]\n",
    "    step_results = state[\"step_results\"]\n",
    "\n",
    "    formatted_plan = \"\\n\".join(\n",
    "        [\n",
    "            f\"{i + 1}. {step.thought} - {step.action} (Result: {step_results.get(i + 1, 'No result')})\"\n",
    "            for i, step in enumerate(plan.steps)\n",
    "        ]\n",
    "    )\n",
    "\n",
    "    result = generator_chain.invoke({\"plan\": formatted_plan, \"query\": query})\n",
    "\n",
    "    return {\"lesson_plan\": result}\n"
   ]
  },
  {
   "cell_type": "markdown",
   "metadata": {},
   "source": [
    "\n",
    "### Tool execution"
   ]
  },
  {
   "cell_type": "markdown",
   "metadata": {},
   "source": [
    "#### Query rewriting"
   ]
  },
  {
   "cell_type": "code",
   "execution_count": 10,
   "metadata": {},
   "outputs": [],
   "source": [
    "class QueryRewriteTemplate(BaseModel):\n",
    "    original_query: str = Field(\n",
    "        ..., description=\"The original query provided by the user.\"\n",
    "    )\n",
    "    optimized_query: str = Field(..., description=\"The optimized query for YouTube.\")\n",
    "\n",
    "\n",
    "def format_plan(plan: PlanningTemplate) -> str:\n",
    "    return \"\\n\".join(\n",
    "        [\n",
    "            f\"{i + 1}. {step.action} - {step.tool}\"\n",
    "            if step.tool\n",
    "            else f\"{i + 1}. {step.action}\"\n",
    "            for i, step in enumerate(plan.steps)\n",
    "        ]\n",
    "    )\n",
    "\n",
    "\n",
    "def query_rewrite(state: State) -> State:\n",
    "    query_rewrite_prompt = ChatPromptTemplate.from_messages(\n",
    "        [\n",
    "            (\n",
    "                \"user\",\n",
    "                dedent(\n",
    "                    \"\"\"\n",
    "                You are an agent that specializes in optimizing user queries for YouTube. \n",
    "\n",
    "                The plan to follow is:\n",
    "                {plan}\n",
    "\n",
    "                The user has provided the following query: {input}\n",
    "\n",
    "                Rewrite the user's query to optimize it for YouTube.\n",
    "                \"\"\"\n",
    "                ),\n",
    "            ),\n",
    "        ]\n",
    "    )\n",
    "\n",
    "    query_rewrite_llm = ChatOpenAI(model=\"gpt-4o\", temperature=0.5, streaming=False)\n",
    "\n",
    "    query_rewrite_chain = (\n",
    "        query_rewrite_prompt\n",
    "        | query_rewrite_llm.with_structured_output(QueryRewriteTemplate)\n",
    "    )\n",
    "\n",
    "    query = state[\"query\"]\n",
    "    plan = state[\"plan\"]\n",
    "\n",
    "    result = query_rewrite_chain.invoke({\"input\": query, \"plan\": format_plan(plan)})\n",
    "\n",
    "    return result\n"
   ]
  },
  {
   "cell_type": "markdown",
   "metadata": {},
   "source": [
    "#### Search videos"
   ]
  },
  {
   "cell_type": "code",
   "execution_count": 11,
   "metadata": {},
   "outputs": [],
   "source": [
    "youtube = googleapiclient.discovery.build(\n",
    "    \"youtube\", \"v3\", developerKey=os.getenv(\"YOUTUBE_API_KEY\")\n",
    ")\n",
    "\n",
    "\n",
    "def search_youtube_videos(query: str, max_results: int = 15) -> Dict:\n",
    "    search_result = (\n",
    "        youtube.search()\n",
    "        .list(\n",
    "            part=\"snippet\",\n",
    "            q=query,\n",
    "            maxResults=max_results,\n",
    "            type=\"video\",\n",
    "            videoCaption=\"closedCaption\",\n",
    "        )\n",
    "        .execute()\n",
    "    )\n",
    "\n",
    "    items = search_result[\"items\"]\n",
    "    yt_videos = [\n",
    "        YouTubeVideo(\n",
    "            video_id=item[\"id\"][\"videoId\"],\n",
    "            title=item[\"snippet\"][\"title\"],\n",
    "            description=item[\"snippet\"][\"description\"],\n",
    "            published_at=item[\"snippet\"][\"publishedAt\"],\n",
    "            channel_title=item[\"snippet\"][\"channelTitle\"],\n",
    "            chunk_time_limit=30,\n",
    "        )\n",
    "        for item in items\n",
    "    ]\n",
    "\n",
    "    return yt_videos"
   ]
  },
  {
   "cell_type": "code",
   "execution_count": 12,
   "metadata": {},
   "outputs": [],
   "source": [
    "def _get_current_task(state: State):\n",
    "    if state[\"step_results\"] is None:\n",
    "        return 1\n",
    "    if len(state[\"step_results\"]) == len(state[\"plan\"].steps):\n",
    "        return None\n",
    "    else:\n",
    "        return len(state[\"step_results\"]) + 1\n"
   ]
  },
  {
   "cell_type": "code",
   "execution_count": 13,
   "metadata": {},
   "outputs": [],
   "source": [
    "def execute_tool(state: State) -> State:\n",
    "    _step = _get_current_task(state)\n",
    "\n",
    "    step_details = state[\"plan\"].steps[_step - 1]\n",
    "\n",
    "    print(f\"Executing step {_step}: {step_details.action} - {step_details.tool}\")\n",
    "\n",
    "    _results = state[\"step_results\"] or {}\n",
    "\n",
    "    if step_details.tool == \"query_rewrite\":\n",
    "        result = query_rewrite(state)\n",
    "        result = result.optimized_query\n",
    "\n",
    "    elif step_details.tool == \"search_videos\":\n",
    "        result = search_youtube_videos(state[\"step_results\"][1])\n",
    "\n",
    "    else:\n",
    "        result = None\n",
    "\n",
    "    _results[_step] = result\n",
    "\n",
    "    return {\n",
    "        \"step_results\": _results,\n",
    "    }\n"
   ]
  },
  {
   "cell_type": "code",
   "execution_count": 14,
   "metadata": {},
   "outputs": [],
   "source": [
    "def router(state: State):\n",
    "    _step = _get_current_task(state)\n",
    "\n",
    "    if _step is None:\n",
    "        return \"generate\"\n",
    "\n",
    "    else:\n",
    "        return \"execute\"\n"
   ]
  },
  {
   "cell_type": "code",
   "execution_count": 15,
   "metadata": {},
   "outputs": [],
   "source": [
    "workflow = StateGraph(State)\n",
    "\n",
    "workflow.add_node(\"planner\", get_plan)\n",
    "workflow.add_node(\"execute\", execute_tool)\n",
    "workflow.add_node(\"generate\", generate_plan)\n",
    "\n",
    "workflow.add_edge(\"planner\", \"execute\")\n",
    "workflow.add_conditional_edges(\n",
    "    \"execute\", router, {\"execute\": \"execute\", \"generate\": \"generate\"}\n",
    ")\n",
    "\n",
    "workflow.add_edge(\"generate\", END)\n",
    "workflow.set_entry_point(\"planner\")\n",
    "\n",
    "graph = workflow.compile()"
   ]
  },
  {
   "cell_type": "code",
   "execution_count": 16,
   "metadata": {},
   "outputs": [
    {
     "data": {
      "text/html": [
       "<pre style=\"white-space:pre;overflow-x:auto;line-height:normal;font-family:Menlo,'DejaVu Sans Mono',consolas,'Courier New',monospace\"></pre>\n"
      ],
      "text/plain": []
     },
     "metadata": {},
     "output_type": "display_data"
    },
    {
     "data": {
      "image/jpeg": "[encoded data removed]",
      "text/plain": [
       "\u001b[1m<\u001b[0m\u001b[1;95mIPython.core.display.Image\u001b[0m\u001b[39m object\u001b[0m\u001b[1m>\u001b[0m"
      ]
     },
     "execution_count": 16,
     "metadata": {},
     "output_type": "execute_result"
    }
   ],
   "source": [
    "from IPython.display import Image\n",
    "\n",
    "Image(graph.get_graph().draw_mermaid_png())\n"
   ]
  },
  {
   "cell_type": "code",
   "execution_count": 17,
   "metadata": {},
   "outputs": [
    {
     "data": {
      "text/html": [
       "<pre style=\"white-space:pre;overflow-x:auto;line-height:normal;font-family:Menlo,'DejaVu Sans Mono',consolas,'Courier New',monospace\">Executing step <span style=\"color: #008080; text-decoration-color: #008080; font-weight: bold\">1</span>: Rewrite the query to optimize it for YouTube - query_rewrite\n",
       "</pre>\n"
      ],
      "text/plain": [
       "Executing step \u001b[1;36m1\u001b[0m: Rewrite the query to optimize it for YouTube - query_rewrite\n"
      ]
     },
     "metadata": {},
     "output_type": "display_data"
    },
    {
     "data": {
      "text/html": [
       "<pre style=\"white-space:pre;overflow-x:auto;line-height:normal;font-family:Menlo,'DejaVu Sans Mono',consolas,'Courier New',monospace\">Executing step <span style=\"color: #008080; text-decoration-color: #008080; font-weight: bold\">2</span>: Search for videos based on the optimized query - search_videos\n",
       "</pre>\n"
      ],
      "text/plain": [
       "Executing step \u001b[1;36m2\u001b[0m: Search for videos based on the optimized query - search_videos\n"
      ]
     },
     "metadata": {},
     "output_type": "display_data"
    },
    {
     "data": {
      "text/html": [
       "<pre style=\"white-space:pre;overflow-x:auto;line-height:normal;font-family:Menlo,'DejaVu Sans Mono',consolas,'Courier New',monospace\">Executing step <span style=\"color: #008080; text-decoration-color: #008080; font-weight: bold\">3</span>: Get the transcripts of the videos - get_transcripts\n",
       "</pre>\n"
      ],
      "text/plain": [
       "Executing step \u001b[1;36m3\u001b[0m: Get the transcripts of the videos - get_transcripts\n"
      ]
     },
     "metadata": {},
     "output_type": "display_data"
    },
    {
     "data": {
      "text/html": [
       "<pre style=\"white-space:pre;overflow-x:auto;line-height:normal;font-family:Menlo,'DejaVu Sans Mono',consolas,'Courier New',monospace\">Executing step <span style=\"color: #008080; text-decoration-color: #008080; font-weight: bold\">4</span>: Filter out irrelevant videos based on the transcripts - filter_videos\n",
       "</pre>\n"
      ],
      "text/plain": [
       "Executing step \u001b[1;36m4\u001b[0m: Filter out irrelevant videos based on the transcripts - filter_videos\n"
      ]
     },
     "metadata": {},
     "output_type": "display_data"
    },
    {
     "data": {
      "text/html": [
       "<pre style=\"white-space:pre;overflow-x:auto;line-height:normal;font-family:Menlo,'DejaVu Sans Mono',consolas,'Courier New',monospace\">Executing step <span style=\"color: #008080; text-decoration-color: #008080; font-weight: bold\">5</span>: Generate lesson plans based on the video transcripts - generate_plan\n",
       "</pre>\n"
      ],
      "text/plain": [
       "Executing step \u001b[1;36m5\u001b[0m: Generate lesson plans based on the video transcripts - generate_plan\n"
      ]
     },
     "metadata": {},
     "output_type": "display_data"
    },
    {
     "data": {
      "text/html": [
       "<pre style=\"white-space:pre;overflow-x:auto;line-height:normal;font-family:Menlo,'DejaVu Sans Mono',consolas,'Courier New',monospace\"></pre>\n"
      ],
      "text/plain": []
     },
     "metadata": {},
     "output_type": "display_data"
    },
    {
     "data": {
      "text/plain": [
       "\n",
       "\u001b[1m{\u001b[0m\n",
       "    \u001b[32m'query'\u001b[0m: \u001b[32m'app development using swift'\u001b[0m,\n",
       "    \u001b[32m'plan'\u001b[0m: \u001b[1;35mPlanningTemplate\u001b[0m\u001b[1m(\u001b[0m\n",
       "        \u001b[33msteps\u001b[0m=\u001b[1m[\u001b[0m\n",
       "            \u001b[1;35mPlanningStep\u001b[0m\u001b[1m(\u001b[0m\n",
       "                \u001b[33mthought\u001b[0m=\u001b[32m'To ensure the query is optimized for YouTube, I need to rewrite it to be more specific and likely to yield relevant results.'\u001b[0m,\n",
       "                \u001b[33maction\u001b[0m=\u001b[32m'Rewrite the query to optimize it for YouTube'\u001b[0m,\n",
       "                \u001b[33mtool\u001b[0m=\u001b[32m'query_rewrite'\u001b[0m\n",
       "            \u001b[1m)\u001b[0m,\n",
       "            \u001b[1;35mPlanningStep\u001b[0m\u001b[1m(\u001b[0m\n",
       "                \u001b[33mthought\u001b[0m=\u001b[32m'With the optimized query, I can search for relevant videos on YouTube.'\u001b[0m,\n",
       "                \u001b[33maction\u001b[0m=\u001b[32m'Search for videos based on the optimized query'\u001b[0m,\n",
       "                \u001b[33mtool\u001b[0m=\u001b[32m'search_videos'\u001b[0m\n",
       "            \u001b[1m)\u001b[0m,\n",
       "            \u001b[1;35mPlanningStep\u001b[0m\u001b[1m(\u001b[0m\n",
       "                \u001b[33mthought\u001b[0m=\u001b[32m'To ensure the videos are relevant to the topic, I will retrieve their transcripts.'\u001b[0m,\n",
       "                \u001b[33maction\u001b[0m=\u001b[32m'Get the transcripts of the videos'\u001b[0m,\n",
       "                \u001b[33mtool\u001b[0m=\u001b[32m'get_transcripts'\u001b[0m\n",
       "            \u001b[1m)\u001b[0m,\n",
       "            \u001b[1;35mPlanningStep\u001b[0m\u001b[1m(\u001b[0m\n",
       "                \u001b[33mthought\u001b[0m=\u001b[32m'I need to filter out any videos that are not relevant based on their transcripts.'\u001b[0m,\n",
       "                \u001b[33maction\u001b[0m=\u001b[32m'Filter out irrelevant videos based on the transcripts'\u001b[0m,\n",
       "                \u001b[33mtool\u001b[0m=\u001b[32m'filter_videos'\u001b[0m\n",
       "            \u001b[1m)\u001b[0m,\n",
       "            \u001b[1;35mPlanningStep\u001b[0m\u001b[1m(\u001b[0m\n",
       "                \u001b[33mthought\u001b[0m=\u001b[32m'To create a structured learning curriculum, I will generate a lesson plan based on the transcripts of the relevant videos.'\u001b[0m,\n",
       "                \u001b[33maction\u001b[0m=\u001b[32m'Generate lesson plans based on the video transcripts'\u001b[0m,\n",
       "                \u001b[33mtool\u001b[0m=\u001b[32m'generate_plan'\u001b[0m\n",
       "            \u001b[1m)\u001b[0m\n",
       "        \u001b[1m]\u001b[0m\n",
       "    \u001b[1m)\u001b[0m,\n",
       "    \u001b[32m'step_results'\u001b[0m: \u001b[1m{\u001b[0m\n",
       "        \u001b[1;36m1\u001b[0m: \u001b[32m'Swift app development tutorial'\u001b[0m,\n",
       "        \u001b[1;36m2\u001b[0m: \u001b[1m[\u001b[0m\n",
       "            How to Make an App - Lesson \u001b[1;36m1\u001b[0m \u001b[1m(\u001b[0m\u001b[1;36m2024\u001b[0m \u001b[35m/\u001b[0m SwiftUI\u001b[1m)\u001b[0m by CodeWithChris - HJDCXdhQaP0 | Confidently learn how to make an app \u001b[1m(\u001b[0mno coding experience required\u001b[1m)\u001b[0m. Used in classrooms and Apple stores, these videos are \u001b[33m...\u001b[0m,\n",
       "            iOS Dev Vs. Web Dev — My Thoughts After Building My First iOS App by Your Average Tech Bro - yr2Ccr7rUNM | Check out the Content Marketing Blueprint to learn how to market your SaaS product on social media: \u001b[33m...\u001b[0m,\n",
       "            Create a weather app from scratch with this SwiftUI Crash Course by DesignCode - X2W9MPjrIbk | Create a simple weather app from scratch with SwiftUI. We'll learn how to get the user's current location, get the weather from \u001b[33m...\u001b[0m,\n",
       "            SwiftUI Fundamentals | FULL COURSE | Beginner Friendly by Sean Allen - b1oC7sLIgpI | Get your start in SwiftUI with SwiftUI Fundamentals. In this \u001b[1;36m12\u001b[0m hour course we build \u001b[1;36m4\u001b[0m apps that ramp up in difficulty. The first \u001b[1;36m3\u001b[0m \u001b[33m...\u001b[0m,\n",
       "            How I&#\u001b[1;36m39\u001b[0m;d Learn iOS Development Starting Over! by CodeWithChris - mG8A25FqLKQ | When I first learned iOS development, I failed and wasted a lot of time. I had to start over and relearn everything the right way.,\n",
       "            How I learned iOS Development in \u001b[1;36m30\u001b[0m Days? \u001b[1;36m0\u001b[0m to Pro! by Harnoor Singh - CuB3dg8F3sY | My Journey to iOS Development! Get \u001b[1;36m2\u001b[0m FREE Stocks in US \u001b[1m(\u001b[0mvalued up to $\u001b[1;36m1400\u001b[0m\u001b[1m)\u001b[0m: \u001b[4;94mhttps://act.webull.com/k/35VZkTJH5269/main\u001b[0m I \u001b[33m...\u001b[0m,\n",
       "            Xcode \u001b[1;36m15\u001b[0m Tutorial for Beginners \u001b[1m(\u001b[0m\u001b[1;36m2024\u001b[0m\u001b[1m)\u001b[0m by CodeWithChris - 8Xcq4yRQ0pU | Learn how to use Xcode for your first iOS app project in this step by step tutorial! This tutorial will show you where to get Xcode, \u001b[33m...\u001b[0m,\n",
       "            Swift Programming Tutorial for Beginners \u001b[1m(\u001b[0mFull Tutorial\u001b[1m)\u001b[0m by CodeWithChris - Ulp1Kimblg0 | Learn how to code with Swift in one single tutorial! We'll go through all the core concepts of Swift including: Variables and \u001b[33m...\u001b[0m,\n",
       "            Tic Tac Toe Game Swift Xcode Tutorial | Noughts &amp; Crosses by Code With Cal - m6EH-JlCLsQ | How to build a tic-tac-toe game using Swift and Xcode. In this beginner iOS development tutorial we build a simple game of \u001b[33m...\u001b[0m,\n",
       "            How to Become an iOS Developer - The Skills You Need by CodeWithChris - vhM0A58Q35I | In the last video, you learned how to set your expectations and to have the right mindset for succeed. Now, we're going to plan out \u001b[33m...\u001b[0m,\n",
       "            SwiftUI Tutorial for Beginners \u001b[1m(\u001b[0m\u001b[1;36m3.5\u001b[0m hour FULL COURSE\u001b[1m)\u001b[0m by CodeWithChris - F2ojC6TNwws | This \u001b[1;36m3.5\u001b[0m hour SwiftUI tutorial is designed for absolute beginners and it introduces you to iOS app development with Swift, Xcode \u001b[33m...\u001b[0m,\n",
       "            Xcode Tutorial - Step by Step for Beginners by CodeWithChris - EJQW864XpmA | If you're looking to learn how to use Xcode to build apps, you're in the right place. My name is Chris and our team here has taught \u001b[33m...\u001b[0m,\n",
       "            WWDC23: What’s new in SwiftUI | Apple by Apple Developer - 8zmTLzEQ7vk | Learn how you can use SwiftUI to build great apps for all Apple platforms. Explore the latest updates to SwiftUI and discover new \u001b[33m...\u001b[0m,\n",
       "            Lecture \u001b[1;36m1\u001b[0m | Stanford CS193p \u001b[1;36m2023\u001b[0m by Stanford CS193p - n1qabtjZ_jg | Introduction to and screen capture of Lecture \u001b[1;36m1\u001b[0m of Stanford's CS193p course \u001b[1m(\u001b[0mDeveloping iOS Applications using SwiftUI\u001b[1m)\u001b[0m from \u001b[33m...\u001b[0m,\n",
       "            Swift for Beginners: Create To Do List App \u001b[1m(\u001b[0m\u001b[1;36m2024\u001b[0m\u001b[1m)\u001b[0m by iOS Academy - U-Y9HJzNhQ0 | We will be building a simple to do list app in swift for beginners. This app will let us add tasks, view them, and interact with them.\n",
       "        \u001b[1m]\u001b[0m,\n",
       "        \u001b[1;36m3\u001b[0m: \u001b[3;35mNone\u001b[0m,\n",
       "        \u001b[1;36m4\u001b[0m: \u001b[3;35mNone\u001b[0m,\n",
       "        \u001b[1;36m5\u001b[0m: \u001b[3;35mNone\u001b[0m\n",
       "    \u001b[1m}\u001b[0m,\n",
       "    \u001b[32m'lesson_plan'\u001b[0m: \u001b[1;35mLessonPlan\u001b[0m\u001b[1m(\u001b[0m\n",
       "        \u001b[33mtitle\u001b[0m=\u001b[32m'Swift App Development Tutorial'\u001b[0m,\n",
       "        \u001b[33mdescription\u001b[0m=\u001b[32m'A comprehensive guide to learning Swift app development, from the basics of Swift programming to creating fully functional iOS applications. This curriculum is designed for beginners and includes step-by-step tutorials, practical examples, and projects to enhance learning.'\u001b[0m,\n",
       "        \u001b[33mvideos\u001b[0m=\u001b[1m[\u001b[0m\n",
       "            \u001b[1;35mVideo\u001b[0m\u001b[1m(\u001b[0m\n",
       "                \u001b[33mtitle\u001b[0m=\u001b[32m'How to Make an App - Lesson 1 \u001b[0m\u001b[32m(\u001b[0m\u001b[32m2024 / SwiftUI\u001b[0m\u001b[32m)\u001b[0m\u001b[32m'\u001b[0m,\n",
       "                \u001b[33murl\u001b[0m=\u001b[32m'https://www.youtube.com/watch?\u001b[0m\u001b[32mv\u001b[0m\u001b[32m=\u001b[0m\u001b[32mHJDCXdhQaP0\u001b[0m\u001b[32m'\u001b[0m,\n",
       "                \u001b[33mduration\u001b[0m=\u001b[1;36m1800\u001b[0m,\n",
       "                \u001b[33mtranscript\u001b[0m=\u001b[32m'Confidently learn how to make an app \u001b[0m\u001b[32m(\u001b[0m\u001b[32mno coding experience required\u001b[0m\u001b[32m)\u001b[0m\u001b[32m. Used in classrooms and Apple stores, these videos are ...'\u001b[0m\n",
       "            \u001b[1m)\u001b[0m,\n",
       "            \u001b[1;35mVideo\u001b[0m\u001b[1m(\u001b[0m\n",
       "                \u001b[33mtitle\u001b[0m=\u001b[32m'Swift Programming Tutorial for Beginners \u001b[0m\u001b[32m(\u001b[0m\u001b[32mFull Tutorial\u001b[0m\u001b[32m)\u001b[0m\u001b[32m'\u001b[0m,\n",
       "                \u001b[33murl\u001b[0m=\u001b[32m'https://www.youtube.com/watch?\u001b[0m\u001b[32mv\u001b[0m\u001b[32m=\u001b[0m\u001b[32mUlp1Kimblg0\u001b[0m\u001b[32m'\u001b[0m,\n",
       "                \u001b[33mduration\u001b[0m=\u001b[1;36m7200\u001b[0m,\n",
       "                \u001b[33mtranscript\u001b[0m=\u001b[32m\"Learn\u001b[0m\u001b[32m how to code with Swift in one single tutorial! We'll go through all the core concepts of Swift including: Variables and ...\"\u001b[0m\n",
       "            \u001b[1m)\u001b[0m,\n",
       "            \u001b[1;35mVideo\u001b[0m\u001b[1m(\u001b[0m\n",
       "                \u001b[33mtitle\u001b[0m=\u001b[32m'Xcode 15 Tutorial for Beginners \u001b[0m\u001b[32m(\u001b[0m\u001b[32m2024\u001b[0m\u001b[32m)\u001b[0m\u001b[32m'\u001b[0m,\n",
       "                \u001b[33murl\u001b[0m=\u001b[32m'https://www.youtube.com/watch?\u001b[0m\u001b[32mv\u001b[0m\u001b[32m=\u001b[0m\u001b[32m8Xcq4yRQ0pU\u001b[0m\u001b[32m'\u001b[0m,\n",
       "                \u001b[33mduration\u001b[0m=\u001b[1;36m3600\u001b[0m,\n",
       "                \u001b[33mtranscript\u001b[0m=\u001b[32m'Learn how to use Xcode for your first iOS app project in this step by step tutorial! This tutorial will show you where to get Xcode, ...'\u001b[0m\n",
       "            \u001b[1m)\u001b[0m,\n",
       "            \u001b[1;35mVideo\u001b[0m\u001b[1m(\u001b[0m\n",
       "                \u001b[33mtitle\u001b[0m=\u001b[32m'SwiftUI Tutorial for Beginners \u001b[0m\u001b[32m(\u001b[0m\u001b[32m3.5 hour FULL COURSE\u001b[0m\u001b[32m)\u001b[0m\u001b[32m'\u001b[0m,\n",
       "                \u001b[33murl\u001b[0m=\u001b[32m'https://www.youtube.com/watch?\u001b[0m\u001b[32mv\u001b[0m\u001b[32m=\u001b[0m\u001b[32mF2ojC6TNwws\u001b[0m\u001b[32m'\u001b[0m,\n",
       "                \u001b[33mduration\u001b[0m=\u001b[1;36m12600\u001b[0m,\n",
       "                \u001b[33mtranscript\u001b[0m=\u001b[32m'This 3.5 hour SwiftUI tutorial is designed for absolute beginners and it introduces you to iOS app development with Swift, Xcode ...'\u001b[0m\n",
       "            \u001b[1m)\u001b[0m,\n",
       "            \u001b[1;35mVideo\u001b[0m\u001b[1m(\u001b[0m\n",
       "                \u001b[33mtitle\u001b[0m=\u001b[32m'Create a weather app from scratch with this SwiftUI Crash Course'\u001b[0m,\n",
       "                \u001b[33murl\u001b[0m=\u001b[32m'https://www.youtube.com/watch?\u001b[0m\u001b[32mv\u001b[0m\u001b[32m=\u001b[0m\u001b[32mX2W9MPjrIbk\u001b[0m\u001b[32m'\u001b[0m,\n",
       "                \u001b[33mduration\u001b[0m=\u001b[1;36m5400\u001b[0m,\n",
       "                \u001b[33mtranscript\u001b[0m=\u001b[32m\"Create\u001b[0m\u001b[32m a simple weather app from scratch with SwiftUI. We'll learn how to get the user's current location, get the weather from ...\"\u001b[0m\n",
       "            \u001b[1m)\u001b[0m,\n",
       "            \u001b[1;35mVideo\u001b[0m\u001b[1m(\u001b[0m\n",
       "                \u001b[33mtitle\u001b[0m=\u001b[32m'Swift for Beginners: Create To Do List App \u001b[0m\u001b[32m(\u001b[0m\u001b[32m2024\u001b[0m\u001b[32m)\u001b[0m\u001b[32m'\u001b[0m,\n",
       "                \u001b[33murl\u001b[0m=\u001b[32m'https://www.youtube.com/watch?\u001b[0m\u001b[32mv\u001b[0m\u001b[32m=\u001b[0m\u001b[32mU\u001b[0m\u001b[32m-Y9HJzNhQ0'\u001b[0m,\n",
       "                \u001b[33mduration\u001b[0m=\u001b[1;36m7200\u001b[0m,\n",
       "                \u001b[33mtranscript\u001b[0m=\u001b[32m'We will be building a simple to do list app in swift for beginners. This app will let us add tasks, view them, and interact with them.'\u001b[0m\n",
       "            \u001b[1m)\u001b[0m\n",
       "        \u001b[1m]\u001b[0m,\n",
       "        \u001b[33msteps\u001b[0m=\u001b[1m[\u001b[0m\n",
       "            \u001b[32m'Introduction to Swift and SwiftUI'\u001b[0m,\n",
       "            \u001b[32m'Setting Up Your Development Environment with Xcode'\u001b[0m,\n",
       "            \u001b[32m'Basic Swift Programming Concepts'\u001b[0m,\n",
       "            \u001b[32m'Building Your First Simple App'\u001b[0m,\n",
       "            \u001b[32m'Understanding SwiftUI Components and Layouts'\u001b[0m,\n",
       "            \u001b[32m'Creating a Weather App with SwiftUI'\u001b[0m,\n",
       "            \u001b[32m'Developing a To-Do List App'\u001b[0m,\n",
       "            \u001b[32m'Conclusion and Next Steps'\u001b[0m\n",
       "        \u001b[1m]\u001b[0m\n",
       "    \u001b[1m)\u001b[0m\n",
       "\u001b[1m}\u001b[0m"
      ]
     },
     "execution_count": 17,
     "metadata": {},
     "output_type": "execute_result"
    }
   ],
   "source": [
    "graph.invoke({\"query\": \"app development using swift\"})"
   ]
  },
  {
   "cell_type": "code",
   "execution_count": null,
   "metadata": {},
   "outputs": [],
   "source": []
  }
 ],
 "metadata": {
  "kernelspec": {
   "display_name": ".venv",
   "language": "python",
   "name": "python3"
  },
  "language_info": {
   "codemirror_mode": {
    "name": "ipython",
    "version": 3
   },
   "file_extension": ".py",
   "mimetype": "text/x-python",
   "name": "python",
   "nbconvert_exporter": "python",
   "pygments_lexer": "ipython3",
   "version": "3.11.0"
  }
 },
 "nbformat": 4,
 "nbformat_minor": 2
}
